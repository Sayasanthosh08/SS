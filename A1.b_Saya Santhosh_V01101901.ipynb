{
 "cells": [
  {
   "cell_type": "code",
   "execution_count": 15,
   "id": "9d35296f",
   "metadata": {
    "ExecuteTime": {
     "end_time": "2024-06-17T18:40:55.517191Z",
     "start_time": "2024-06-17T18:40:55.501554Z"
    }
   },
   "outputs": [],
   "source": [
    "import os\n",
    "import pandas as pd\n",
    "import numpy as np\n",
    "import matplotlib.pyplot as plt\n",
    "import seaborn as sns"
   ]
  },
  {
   "cell_type": "code",
   "execution_count": 19,
   "id": "ccea5d65",
   "metadata": {
    "ExecuteTime": {
     "end_time": "2024-06-17T18:41:02.872798Z",
     "start_time": "2024-06-17T18:41:02.864783Z"
    }
   },
   "outputs": [],
   "source": [
    "os.chdir('C:\\\\python projects')"
   ]
  },
  {
   "cell_type": "code",
   "execution_count": 23,
   "id": "12b06d0e-d04b-41fd-9516-13afa8518a72",
   "metadata": {},
   "outputs": [
    {
     "name": "stderr",
     "output_type": "stream",
     "text": [
      "C:\\Users\\sayas\\AppData\\Local\\Temp\\ipykernel_51908\\4290613251.py:1: DtypeWarning: Columns (2) have mixed types. Specify dtype option on import or set low_memory=False.\n",
      "  data=pd.read_csv(\"C:\\\\IPL_ball_by_ball_updated till 2024 (1).csv\")\n"
     ]
    }
   ],
   "source": [
    "data=pd.read_csv(\"C:\\\\IPL_ball_by_ball_updated till 2024 (1).csv\")"
   ]
  },
  {
   "cell_type": "code",
   "execution_count": 24,
   "id": "bf514a0d-5b14-44ce-a265-aa7eacf7f7df",
   "metadata": {},
   "outputs": [
    {
     "data": {
      "text/html": [
       "<div>\n",
       "<style scoped>\n",
       "    .dataframe tbody tr th:only-of-type {\n",
       "        vertical-align: middle;\n",
       "    }\n",
       "\n",
       "    .dataframe tbody tr th {\n",
       "        vertical-align: top;\n",
       "    }\n",
       "\n",
       "    .dataframe thead th {\n",
       "        text-align: right;\n",
       "    }\n",
       "</style>\n",
       "<table border=\"1\" class=\"dataframe\">\n",
       "  <thead>\n",
       "    <tr style=\"text-align: right;\">\n",
       "      <th></th>\n",
       "      <th>Match id</th>\n",
       "      <th>Date</th>\n",
       "      <th>Season</th>\n",
       "      <th>Batting team</th>\n",
       "      <th>Bowling team</th>\n",
       "      <th>Innings No</th>\n",
       "      <th>Ball No</th>\n",
       "      <th>Bowler</th>\n",
       "      <th>Striker</th>\n",
       "      <th>Non Striker</th>\n",
       "      <th>runs_scored</th>\n",
       "      <th>extras</th>\n",
       "      <th>type of extras</th>\n",
       "      <th>score</th>\n",
       "      <th>score/wicket</th>\n",
       "      <th>wicket_confirmation</th>\n",
       "      <th>wicket_type</th>\n",
       "      <th>fielders_involved</th>\n",
       "      <th>Player Out</th>\n",
       "    </tr>\n",
       "  </thead>\n",
       "  <tbody>\n",
       "    <tr>\n",
       "      <th>0</th>\n",
       "      <td>335982</td>\n",
       "      <td>18-04-2008</td>\n",
       "      <td>2007/08</td>\n",
       "      <td>Kolkata Knight Riders</td>\n",
       "      <td>Royal Challengers Bangalore</td>\n",
       "      <td>1</td>\n",
       "      <td>0.1</td>\n",
       "      <td>P Kumar</td>\n",
       "      <td>SC Ganguly</td>\n",
       "      <td>BB McCullum</td>\n",
       "      <td>0</td>\n",
       "      <td>1</td>\n",
       "      <td>legbyes</td>\n",
       "      <td>1</td>\n",
       "      <td>1/0</td>\n",
       "      <td>0</td>\n",
       "      <td>NaN</td>\n",
       "      <td>NaN</td>\n",
       "      <td>NaN</td>\n",
       "    </tr>\n",
       "    <tr>\n",
       "      <th>1</th>\n",
       "      <td>335982</td>\n",
       "      <td>18-04-2008</td>\n",
       "      <td>2007/08</td>\n",
       "      <td>Kolkata Knight Riders</td>\n",
       "      <td>Royal Challengers Bangalore</td>\n",
       "      <td>1</td>\n",
       "      <td>0.2</td>\n",
       "      <td>P Kumar</td>\n",
       "      <td>BB McCullum</td>\n",
       "      <td>SC Ganguly</td>\n",
       "      <td>0</td>\n",
       "      <td>0</td>\n",
       "      <td>NaN</td>\n",
       "      <td>1</td>\n",
       "      <td>1/0</td>\n",
       "      <td>0</td>\n",
       "      <td>NaN</td>\n",
       "      <td>NaN</td>\n",
       "      <td>NaN</td>\n",
       "    </tr>\n",
       "    <tr>\n",
       "      <th>2</th>\n",
       "      <td>335982</td>\n",
       "      <td>18-04-2008</td>\n",
       "      <td>2007/08</td>\n",
       "      <td>Kolkata Knight Riders</td>\n",
       "      <td>Royal Challengers Bangalore</td>\n",
       "      <td>1</td>\n",
       "      <td>0.2</td>\n",
       "      <td>P Kumar</td>\n",
       "      <td>BB McCullum</td>\n",
       "      <td>SC Ganguly</td>\n",
       "      <td>0</td>\n",
       "      <td>1</td>\n",
       "      <td>wides</td>\n",
       "      <td>2</td>\n",
       "      <td>2/0</td>\n",
       "      <td>0</td>\n",
       "      <td>NaN</td>\n",
       "      <td>NaN</td>\n",
       "      <td>NaN</td>\n",
       "    </tr>\n",
       "    <tr>\n",
       "      <th>3</th>\n",
       "      <td>335982</td>\n",
       "      <td>18-04-2008</td>\n",
       "      <td>2007/08</td>\n",
       "      <td>Kolkata Knight Riders</td>\n",
       "      <td>Royal Challengers Bangalore</td>\n",
       "      <td>1</td>\n",
       "      <td>0.3</td>\n",
       "      <td>P Kumar</td>\n",
       "      <td>BB McCullum</td>\n",
       "      <td>SC Ganguly</td>\n",
       "      <td>0</td>\n",
       "      <td>0</td>\n",
       "      <td>NaN</td>\n",
       "      <td>2</td>\n",
       "      <td>2/0</td>\n",
       "      <td>0</td>\n",
       "      <td>NaN</td>\n",
       "      <td>NaN</td>\n",
       "      <td>NaN</td>\n",
       "    </tr>\n",
       "    <tr>\n",
       "      <th>4</th>\n",
       "      <td>335982</td>\n",
       "      <td>18-04-2008</td>\n",
       "      <td>2007/08</td>\n",
       "      <td>Kolkata Knight Riders</td>\n",
       "      <td>Royal Challengers Bangalore</td>\n",
       "      <td>1</td>\n",
       "      <td>0.4</td>\n",
       "      <td>P Kumar</td>\n",
       "      <td>BB McCullum</td>\n",
       "      <td>SC Ganguly</td>\n",
       "      <td>0</td>\n",
       "      <td>0</td>\n",
       "      <td>NaN</td>\n",
       "      <td>2</td>\n",
       "      <td>2/0</td>\n",
       "      <td>0</td>\n",
       "      <td>NaN</td>\n",
       "      <td>NaN</td>\n",
       "      <td>NaN</td>\n",
       "    </tr>\n",
       "    <tr>\n",
       "      <th>...</th>\n",
       "      <td>...</td>\n",
       "      <td>...</td>\n",
       "      <td>...</td>\n",
       "      <td>...</td>\n",
       "      <td>...</td>\n",
       "      <td>...</td>\n",
       "      <td>...</td>\n",
       "      <td>...</td>\n",
       "      <td>...</td>\n",
       "      <td>...</td>\n",
       "      <td>...</td>\n",
       "      <td>...</td>\n",
       "      <td>...</td>\n",
       "      <td>...</td>\n",
       "      <td>...</td>\n",
       "      <td>...</td>\n",
       "      <td>...</td>\n",
       "      <td>...</td>\n",
       "      <td>...</td>\n",
       "    </tr>\n",
       "    <tr>\n",
       "      <th>255754</th>\n",
       "      <td>1426287</td>\n",
       "      <td>01-05-2024</td>\n",
       "      <td>2024</td>\n",
       "      <td>Punjab Kings</td>\n",
       "      <td>Chennai Super Kings</td>\n",
       "      <td>2</td>\n",
       "      <td>17.1</td>\n",
       "      <td>RJ Gleeson</td>\n",
       "      <td>SM Curran</td>\n",
       "      <td>Shashank Singh</td>\n",
       "      <td>0</td>\n",
       "      <td>0</td>\n",
       "      <td>NaN</td>\n",
       "      <td>156</td>\n",
       "      <td>156/3</td>\n",
       "      <td>0</td>\n",
       "      <td>NaN</td>\n",
       "      <td>NaN</td>\n",
       "      <td>NaN</td>\n",
       "    </tr>\n",
       "    <tr>\n",
       "      <th>255755</th>\n",
       "      <td>1426287</td>\n",
       "      <td>01-05-2024</td>\n",
       "      <td>2024</td>\n",
       "      <td>Punjab Kings</td>\n",
       "      <td>Chennai Super Kings</td>\n",
       "      <td>2</td>\n",
       "      <td>17.2</td>\n",
       "      <td>RJ Gleeson</td>\n",
       "      <td>SM Curran</td>\n",
       "      <td>Shashank Singh</td>\n",
       "      <td>4</td>\n",
       "      <td>0</td>\n",
       "      <td>NaN</td>\n",
       "      <td>160</td>\n",
       "      <td>160/3</td>\n",
       "      <td>0</td>\n",
       "      <td>NaN</td>\n",
       "      <td>NaN</td>\n",
       "      <td>NaN</td>\n",
       "    </tr>\n",
       "    <tr>\n",
       "      <th>255756</th>\n",
       "      <td>1426287</td>\n",
       "      <td>01-05-2024</td>\n",
       "      <td>2024</td>\n",
       "      <td>Punjab Kings</td>\n",
       "      <td>Chennai Super Kings</td>\n",
       "      <td>2</td>\n",
       "      <td>17.3</td>\n",
       "      <td>RJ Gleeson</td>\n",
       "      <td>SM Curran</td>\n",
       "      <td>Shashank Singh</td>\n",
       "      <td>0</td>\n",
       "      <td>0</td>\n",
       "      <td>NaN</td>\n",
       "      <td>160</td>\n",
       "      <td>160/3</td>\n",
       "      <td>0</td>\n",
       "      <td>NaN</td>\n",
       "      <td>NaN</td>\n",
       "      <td>NaN</td>\n",
       "    </tr>\n",
       "    <tr>\n",
       "      <th>255757</th>\n",
       "      <td>1426287</td>\n",
       "      <td>01-05-2024</td>\n",
       "      <td>2024</td>\n",
       "      <td>Punjab Kings</td>\n",
       "      <td>Chennai Super Kings</td>\n",
       "      <td>2</td>\n",
       "      <td>17.4</td>\n",
       "      <td>RJ Gleeson</td>\n",
       "      <td>SM Curran</td>\n",
       "      <td>Shashank Singh</td>\n",
       "      <td>0</td>\n",
       "      <td>1</td>\n",
       "      <td>legbyes</td>\n",
       "      <td>161</td>\n",
       "      <td>161/3</td>\n",
       "      <td>0</td>\n",
       "      <td>NaN</td>\n",
       "      <td>NaN</td>\n",
       "      <td>NaN</td>\n",
       "    </tr>\n",
       "    <tr>\n",
       "      <th>255758</th>\n",
       "      <td>1426287</td>\n",
       "      <td>01-05-2024</td>\n",
       "      <td>2024</td>\n",
       "      <td>Punjab Kings</td>\n",
       "      <td>Chennai Super Kings</td>\n",
       "      <td>2</td>\n",
       "      <td>17.5</td>\n",
       "      <td>RJ Gleeson</td>\n",
       "      <td>Shashank Singh</td>\n",
       "      <td>SM Curran</td>\n",
       "      <td>2</td>\n",
       "      <td>0</td>\n",
       "      <td>NaN</td>\n",
       "      <td>163</td>\n",
       "      <td>163/3</td>\n",
       "      <td>0</td>\n",
       "      <td>NaN</td>\n",
       "      <td>NaN</td>\n",
       "      <td>NaN</td>\n",
       "    </tr>\n",
       "  </tbody>\n",
       "</table>\n",
       "<p>255759 rows × 19 columns</p>\n",
       "</div>"
      ],
      "text/plain": [
       "        Match id        Date   Season           Batting team  \\\n",
       "0         335982  18-04-2008  2007/08  Kolkata Knight Riders   \n",
       "1         335982  18-04-2008  2007/08  Kolkata Knight Riders   \n",
       "2         335982  18-04-2008  2007/08  Kolkata Knight Riders   \n",
       "3         335982  18-04-2008  2007/08  Kolkata Knight Riders   \n",
       "4         335982  18-04-2008  2007/08  Kolkata Knight Riders   \n",
       "...          ...         ...      ...                    ...   \n",
       "255754   1426287  01-05-2024     2024           Punjab Kings   \n",
       "255755   1426287  01-05-2024     2024           Punjab Kings   \n",
       "255756   1426287  01-05-2024     2024           Punjab Kings   \n",
       "255757   1426287  01-05-2024     2024           Punjab Kings   \n",
       "255758   1426287  01-05-2024     2024           Punjab Kings   \n",
       "\n",
       "                       Bowling team  Innings No  Ball No      Bowler  \\\n",
       "0       Royal Challengers Bangalore           1      0.1     P Kumar   \n",
       "1       Royal Challengers Bangalore           1      0.2     P Kumar   \n",
       "2       Royal Challengers Bangalore           1      0.2     P Kumar   \n",
       "3       Royal Challengers Bangalore           1      0.3     P Kumar   \n",
       "4       Royal Challengers Bangalore           1      0.4     P Kumar   \n",
       "...                             ...         ...      ...         ...   \n",
       "255754          Chennai Super Kings           2     17.1  RJ Gleeson   \n",
       "255755          Chennai Super Kings           2     17.2  RJ Gleeson   \n",
       "255756          Chennai Super Kings           2     17.3  RJ Gleeson   \n",
       "255757          Chennai Super Kings           2     17.4  RJ Gleeson   \n",
       "255758          Chennai Super Kings           2     17.5  RJ Gleeson   \n",
       "\n",
       "               Striker     Non Striker  runs_scored  extras type of extras  \\\n",
       "0           SC Ganguly     BB McCullum            0       1        legbyes   \n",
       "1          BB McCullum      SC Ganguly            0       0            NaN   \n",
       "2          BB McCullum      SC Ganguly            0       1          wides   \n",
       "3          BB McCullum      SC Ganguly            0       0            NaN   \n",
       "4          BB McCullum      SC Ganguly            0       0            NaN   \n",
       "...                ...             ...          ...     ...            ...   \n",
       "255754       SM Curran  Shashank Singh            0       0            NaN   \n",
       "255755       SM Curran  Shashank Singh            4       0            NaN   \n",
       "255756       SM Curran  Shashank Singh            0       0            NaN   \n",
       "255757       SM Curran  Shashank Singh            0       1        legbyes   \n",
       "255758  Shashank Singh       SM Curran            2       0            NaN   \n",
       "\n",
       "        score score/wicket  wicket_confirmation wicket_type fielders_involved  \\\n",
       "0           1          1/0                    0         NaN               NaN   \n",
       "1           1          1/0                    0         NaN               NaN   \n",
       "2           2          2/0                    0         NaN               NaN   \n",
       "3           2          2/0                    0         NaN               NaN   \n",
       "4           2          2/0                    0         NaN               NaN   \n",
       "...       ...          ...                  ...         ...               ...   \n",
       "255754    156        156/3                    0         NaN               NaN   \n",
       "255755    160        160/3                    0         NaN               NaN   \n",
       "255756    160        160/3                    0         NaN               NaN   \n",
       "255757    161        161/3                    0         NaN               NaN   \n",
       "255758    163        163/3                    0         NaN               NaN   \n",
       "\n",
       "       Player Out  \n",
       "0             NaN  \n",
       "1             NaN  \n",
       "2             NaN  \n",
       "3             NaN  \n",
       "4             NaN  \n",
       "...           ...  \n",
       "255754        NaN  \n",
       "255755        NaN  \n",
       "255756        NaN  \n",
       "255757        NaN  \n",
       "255758        NaN  \n",
       "\n",
       "[255759 rows x 19 columns]"
      ]
     },
     "execution_count": 24,
     "metadata": {},
     "output_type": "execute_result"
    }
   ],
   "source": [
    "data"
   ]
  },
  {
   "cell_type": "code",
   "execution_count": 26,
   "id": "c9f1dae5",
   "metadata": {
    "ExecuteTime": {
     "end_time": "2024-06-17T18:42:45.099983Z",
     "start_time": "2024-06-17T18:42:44.158183Z"
    }
   },
   "outputs": [],
   "source": [
    "ipl_salary = pd.read_excel('IPL SALARIES 2024.xlsx')"
   ]
  },
  {
   "cell_type": "code",
   "execution_count": 27,
   "id": "890ec4e9",
   "metadata": {
    "ExecuteTime": {
     "end_time": "2024-06-17T20:11:18.415809Z",
     "start_time": "2024-06-17T20:11:18.401437Z"
    }
   },
   "outputs": [
    {
     "data": {
      "text/html": [
       "<div>\n",
       "<style scoped>\n",
       "    .dataframe tbody tr th:only-of-type {\n",
       "        vertical-align: middle;\n",
       "    }\n",
       "\n",
       "    .dataframe tbody tr th {\n",
       "        vertical-align: top;\n",
       "    }\n",
       "\n",
       "    .dataframe thead th {\n",
       "        text-align: right;\n",
       "    }\n",
       "</style>\n",
       "<table border=\"1\" class=\"dataframe\">\n",
       "  <thead>\n",
       "    <tr style=\"text-align: right;\">\n",
       "      <th></th>\n",
       "      <th>Player</th>\n",
       "      <th>Salary</th>\n",
       "      <th>Rs</th>\n",
       "      <th>international</th>\n",
       "      <th>iconic</th>\n",
       "    </tr>\n",
       "  </thead>\n",
       "  <tbody>\n",
       "    <tr>\n",
       "      <th>0</th>\n",
       "      <td>Abhishek Porel</td>\n",
       "      <td>20 lakh</td>\n",
       "      <td>20</td>\n",
       "      <td>0</td>\n",
       "      <td>NaN</td>\n",
       "    </tr>\n",
       "    <tr>\n",
       "      <th>1</th>\n",
       "      <td>Anrich Nortje</td>\n",
       "      <td>6.5 crore</td>\n",
       "      <td>650</td>\n",
       "      <td>1</td>\n",
       "      <td>NaN</td>\n",
       "    </tr>\n",
       "  </tbody>\n",
       "</table>\n",
       "</div>"
      ],
      "text/plain": [
       "           Player     Salary   Rs  international  iconic\n",
       "0  Abhishek Porel    20 lakh   20              0     NaN\n",
       "1   Anrich Nortje  6.5 crore  650              1     NaN"
      ]
     },
     "execution_count": 27,
     "metadata": {},
     "output_type": "execute_result"
    }
   ],
   "source": [
    "ipl_salary.head(2)"
   ]
  },
  {
   "cell_type": "code",
   "execution_count": 32,
   "id": "00ad1fbf",
   "metadata": {
    "ExecuteTime": {
     "end_time": "2024-06-17T18:47:30.678527Z",
     "start_time": "2024-06-17T18:47:30.373074Z"
    }
   },
   "outputs": [
    {
     "ename": "NameError",
     "evalue": "name 'IPL_ball_by_ball' is not defined",
     "output_type": "error",
     "traceback": [
      "\u001b[1;31m---------------------------------------------------------------------------\u001b[0m",
      "\u001b[1;31mNameError\u001b[0m                                 Traceback (most recent call last)",
      "Cell \u001b[1;32mIn[32], line 1\u001b[0m\n\u001b[1;32m----> 1\u001b[0m grouped_data \u001b[38;5;241m=\u001b[39m IPL_ball_by_ball\u001b[38;5;241m.\u001b[39mgroupby([\u001b[38;5;124m'\u001b[39m\u001b[38;5;124mSeason\u001b[39m\u001b[38;5;124m'\u001b[39m, \u001b[38;5;124m'\u001b[39m\u001b[38;5;124mInnings No\u001b[39m\u001b[38;5;124m'\u001b[39m, \u001b[38;5;124m'\u001b[39m\u001b[38;5;124mStriker\u001b[39m\u001b[38;5;124m'\u001b[39m, \u001b[38;5;124m'\u001b[39m\u001b[38;5;124mBowler\u001b[39m\u001b[38;5;124m'\u001b[39m])\u001b[38;5;241m.\u001b[39magg({\u001b[38;5;124m'\u001b[39m\u001b[38;5;124mruns_scored\u001b[39m\u001b[38;5;124m'\u001b[39m: \u001b[38;5;124m'\u001b[39m\u001b[38;5;124msum\u001b[39m\u001b[38;5;124m'\u001b[39m, \u001b[38;5;124m'\u001b[39m\u001b[38;5;124mwicket_confirmation\u001b[39m\u001b[38;5;124m'\u001b[39m: \u001b[38;5;124m'\u001b[39m\u001b[38;5;124msum\u001b[39m\u001b[38;5;124m'\u001b[39m})\u001b[38;5;241m.\u001b[39mreset_index()\n",
      "\u001b[1;31mNameError\u001b[0m: name 'IPL_ball_by_ball' is not defined"
     ]
    }
   ],
   "source": [
    "grouped_data = IPL_ball_by_ball.groupby(['Season', 'Innings No', 'Striker', 'Bowler']).agg({'runs_scored': 'sum', 'wicket_confirmation': 'sum'}).reset_index()"
   ]
  },
  {
   "cell_type": "code",
   "execution_count": 34,
   "id": "8245f2a1-819a-449f-8409-da08444c491b",
   "metadata": {},
   "outputs": [
    {
     "name": "stderr",
     "output_type": "stream",
     "text": [
      "C:\\Users\\sayas\\AppData\\Local\\Temp\\ipykernel_51908\\4199200434.py:1: DtypeWarning: Columns (2) have mixed types. Specify dtype option on import or set low_memory=False.\n",
      "  ipl_bbb = pd.read_csv('C:\\\\IPL_ball_by_ball_updated till 2024 (1).csv')\n"
     ]
    }
   ],
   "source": [
    "ipl_bbb = pd.read_csv('C:\\\\IPL_ball_by_ball_updated till 2024 (1).csv')"
   ]
  },
  {
   "cell_type": "code",
   "execution_count": 44,
   "id": "ccabcc65-dc46-41f1-a0f2-926d881c650b",
   "metadata": {},
   "outputs": [],
   "source": [
    "grouped_data = ipl_bbb.groupby(['Season', 'Innings No', 'Striker', 'Bowler']).agg({'runs_scored': 'sum', 'wicket_confirmation': 'sum'}).reset_index()"
   ]
  },
  {
   "cell_type": "code",
   "execution_count": 45,
   "id": "82c48a18-8c8d-4bae-8577-d7df9d77eb67",
   "metadata": {},
   "outputs": [],
   "source": [
    "player_runs = grouped_data.groupby(['Season', 'Striker'])['runs_scored'].sum().reset_index()\n",
    "player_wickets = grouped_data.groupby(['Season', 'Bowler'])['wicket_confirmation'].sum().reset_index()"
   ]
  },
  {
   "cell_type": "code",
   "execution_count": 46,
   "id": "91b9ac8b",
   "metadata": {
    "ExecuteTime": {
     "end_time": "2024-06-17T18:52:26.118735Z",
     "start_time": "2024-06-17T18:52:26.083040Z"
    }
   },
   "outputs": [
    {
     "data": {
      "text/html": [
       "<div>\n",
       "<style scoped>\n",
       "    .dataframe tbody tr th:only-of-type {\n",
       "        vertical-align: middle;\n",
       "    }\n",
       "\n",
       "    .dataframe tbody tr th {\n",
       "        vertical-align: top;\n",
       "    }\n",
       "\n",
       "    .dataframe thead th {\n",
       "        text-align: right;\n",
       "    }\n",
       "</style>\n",
       "<table border=\"1\" class=\"dataframe\">\n",
       "  <thead>\n",
       "    <tr style=\"text-align: right;\">\n",
       "      <th></th>\n",
       "      <th>Season</th>\n",
       "      <th>Striker</th>\n",
       "      <th>runs_scored</th>\n",
       "    </tr>\n",
       "  </thead>\n",
       "  <tbody>\n",
       "  </tbody>\n",
       "</table>\n",
       "</div>"
      ],
      "text/plain": [
       "Empty DataFrame\n",
       "Columns: [Season, Striker, runs_scored]\n",
       "Index: []"
      ]
     },
     "execution_count": 46,
     "metadata": {},
     "output_type": "execute_result"
    }
   ],
   "source": [
    "player_runs[player_runs['Season']=='2023'].sort_values(by='runs_scored',ascending=False)"
   ]
  },
  {
   "cell_type": "code",
   "execution_count": 47,
   "id": "42fc1a03",
   "metadata": {
    "ExecuteTime": {
     "end_time": "2024-06-17T18:54:34.052611Z",
     "start_time": "2024-06-17T18:54:33.921973Z"
    }
   },
   "outputs": [
    {
     "name": "stdout",
     "output_type": "stream",
     "text": [
      "Top Three Run Getters:\n",
      "     Season          Striker  runs_scored\n",
      "0      2012         CH Gayle          487\n",
      "1      2012        G Gambhir          411\n",
      "2      2012         CL White          361\n",
      "3      2013       MEK Hussey          733\n",
      "4      2013         CH Gayle          720\n",
      "5      2013          V Kohli          639\n",
      "6      2014       RV Uthappa          660\n",
      "7      2014         DR Smith          566\n",
      "8      2014       GJ Maxwell          552\n",
      "9      2015        DA Warner          562\n",
      "10     2015        AM Rahane          540\n",
      "11     2015      LMP Simmons          540\n",
      "12     2016          V Kohli          973\n",
      "13     2016        DA Warner          848\n",
      "14     2016   AB de Villiers          687\n",
      "15     2017        DA Warner          641\n",
      "16     2017        G Gambhir          498\n",
      "17     2017         S Dhawan          479\n",
      "18     2018    KS Williamson          685\n",
      "19     2018          RR Pant          684\n",
      "20     2018         KL Rahul          659\n",
      "21     2021       RD Gaikwad          615\n",
      "22     2021     F du Plessis          564\n",
      "23     2021         KL Rahul          469\n",
      "24     2022       JC Buttler          863\n",
      "25     2022         KL Rahul          616\n",
      "26     2022        Q de Kock          508\n",
      "27     2023     Shubman Gill          890\n",
      "28     2023     F du Plessis          730\n",
      "29     2023        DP Conway          672\n",
      "30     2024       RD Gaikwad          509\n",
      "31     2024          V Kohli          500\n",
      "32     2024  B Sai Sudharsan          418\n",
      "33  2007/08         SE Marsh          616\n",
      "34  2007/08        G Gambhir          534\n",
      "35  2007/08    ST Jayasuriya          514\n",
      "36     2009        ML Hayden          572\n",
      "37     2009     AC Gilchrist          495\n",
      "38     2009   AB de Villiers          465\n",
      "39  2009/10     SR Tendulkar          618\n",
      "40  2009/10        JH Kallis          572\n",
      "41  2009/10         SK Raina          528\n",
      "42     2011         CH Gayle          608\n",
      "43     2011          V Kohli          557\n",
      "44     2011     SR Tendulkar          553\n",
      "45     2012        AM Rahane          319\n",
      "46     2012     F du Plessis          302\n",
      "47     2012         S Dhawan          282\n",
      "48     2018        SR Watson          117\n",
      "49     2018     F du Plessis           77\n",
      "50     2018    CR Brathwaite           72\n",
      "51     2019        DA Warner          692\n",
      "52     2019         KL Rahul          593\n",
      "53     2019        Q de Kock          529\n",
      "54  2020/21         KL Rahul          676\n",
      "55  2020/21         S Dhawan          618\n",
      "56  2020/21        DA Warner          548\n",
      "57     2021         S Dhawan          186\n",
      "58     2021       GJ Maxwell          176\n",
      "59     2021         KL Rahul          157\n",
      "Top Three Wicket Takers:\n",
      "     Season           Bowler  wicket_confirmation\n",
      "0      2012        SP Narine                   21\n",
      "1      2012         DJ Bravo                   17\n",
      "2      2012         UT Yadav                   16\n",
      "3      2013         DJ Bravo                   34\n",
      "4      2013      JP Faulkner                   33\n",
      "5      2013    R Vinay Kumar                   27\n",
      "6      2014        MM Sharma                   26\n",
      "7      2014        SP Narine                   22\n",
      "8      2014          B Kumar                   21\n",
      "9      2015         DJ Bravo                   28\n",
      "10     2015       SL Malinga                   26\n",
      "11     2015          A Nehra                   25\n",
      "12     2016          B Kumar                   24\n",
      "13     2016        SR Watson                   23\n",
      "14     2016        YS Chahal                   22\n",
      "15     2017          B Kumar                   28\n",
      "16     2017       JD Unadkat                   27\n",
      "17     2017        JJ Bumrah                   23\n",
      "18     2018           AJ Tye                   28\n",
      "19     2018           S Kaul                   20\n",
      "20     2018         TA Boult                   20\n",
      "21     2021         HV Patel                   24\n",
      "22     2021       Avesh Khan                   19\n",
      "23     2021        SN Thakur                   19\n",
      "24     2022        YS Chahal                   29\n",
      "25     2022     PWH de Silva                   27\n",
      "26     2022         K Rabada                   23\n",
      "27     2023        MM Sharma                   31\n",
      "28     2023   Mohammed Shami                   28\n",
      "29     2023      Rashid Khan                   28\n",
      "30     2024         HV Patel                   19\n",
      "31     2024     Mukesh Kumar                   15\n",
      "32     2024   Arshdeep Singh                   14\n",
      "33  2007/08    Sohail Tanvir                   24\n",
      "34  2007/08        IK Pathan                   20\n",
      "35  2007/08        JA Morkel                   20\n",
      "36     2009         RP Singh                   26\n",
      "37     2009         A Kumble                   22\n",
      "38     2009          A Nehra                   22\n",
      "39  2009/10          PP Ojha                   22\n",
      "40  2009/10         A Mishra                   20\n",
      "41  2009/10  Harbhajan Singh                   20\n",
      "42     2011       SL Malinga                   30\n",
      "43     2011         MM Patel                   22\n",
      "44     2011        S Aravind                   22\n",
      "45     2012         M Morkel                   19\n",
      "46     2012       KA Pollard                   12\n",
      "47     2012         MM Patel                   11\n",
      "48     2018      Rashid Khan                    5\n",
      "49     2018    CR Brathwaite                    4\n",
      "50     2018    Kuldeep Yadav                    4\n",
      "51     2019         K Rabada                   29\n",
      "52     2019      Imran Tahir                   26\n",
      "53     2019        JJ Bumrah                   23\n",
      "54  2020/21         K Rabada                   32\n",
      "55  2020/21        JJ Bumrah                   30\n",
      "56  2020/21         TA Boult                   26\n",
      "57     2021         HV Patel                   11\n",
      "58     2021       Avesh Khan                    8\n",
      "59     2021        RD Chahar                    7\n"
     ]
    }
   ],
   "source": [
    "top_run_getters = player_runs.groupby('Season').apply(lambda x: x.nlargest(3, 'runs_scored')).reset_index(drop=True)\n",
    "bottom_wicket_takers = player_wickets.groupby('Season').apply(lambda x: x.nlargest(3, 'wicket_confirmation')).reset_index(drop=True)\n",
    "print(\"Top Three Run Getters:\")\n",
    "print(top_run_getters)\n",
    "print(\"Top Three Wicket Takers:\")\n",
    "print(bottom_wicket_takers)"
   ]
  },
  {
   "cell_type": "code",
   "execution_count": 48,
   "id": "1d8cefcb",
   "metadata": {
    "ExecuteTime": {
     "end_time": "2024-06-17T18:59:43.066908Z",
     "start_time": "2024-06-17T18:59:42.895193Z"
    },
    "scrolled": true
   },
   "outputs": [],
   "source": [
    "ipl_year_id = pd.DataFrame(columns=[\"id\", \"year\"])\n",
    "ipl_year_id[\"id\"] = ipl_bbb[\"Match id\"]\n",
    "ipl_year_id[\"year\"] = pd.to_datetime(ipl_bbb[\"Date\"], dayfirst=True).dt.year"
   ]
  },
  {
   "cell_type": "code",
   "execution_count": 49,
   "id": "1ca892df",
   "metadata": {
    "ExecuteTime": {
     "end_time": "2024-06-17T19:08:09.199794Z",
     "start_time": "2024-06-17T19:08:09.036239Z"
    }
   },
   "outputs": [],
   "source": [
    "#create a copy of ipl_bbbc dataframe\n",
    "ipl_bbbc= ipl_bbb.copy()"
   ]
  },
  {
   "cell_type": "code",
   "execution_count": 50,
   "id": "05e04474",
   "metadata": {
    "ExecuteTime": {
     "end_time": "2024-06-17T19:08:28.976414Z",
     "start_time": "2024-06-17T19:08:28.839397Z"
    }
   },
   "outputs": [],
   "source": [
    "ipl_bbbc['year'] = pd.to_datetime(ipl_bbb[\"Date\"], dayfirst=True).dt.year"
   ]
  },
  {
   "cell_type": "code",
   "execution_count": 51,
   "id": "695a2d7f",
   "metadata": {
    "ExecuteTime": {
     "end_time": "2024-06-17T19:09:02.819985Z",
     "start_time": "2024-06-17T19:09:02.760242Z"
    }
   },
   "outputs": [
    {
     "data": {
      "text/html": [
       "<div>\n",
       "<style scoped>\n",
       "    .dataframe tbody tr th:only-of-type {\n",
       "        vertical-align: middle;\n",
       "    }\n",
       "\n",
       "    .dataframe tbody tr th {\n",
       "        vertical-align: top;\n",
       "    }\n",
       "\n",
       "    .dataframe thead th {\n",
       "        text-align: right;\n",
       "    }\n",
       "</style>\n",
       "<table border=\"1\" class=\"dataframe\">\n",
       "  <thead>\n",
       "    <tr style=\"text-align: right;\">\n",
       "      <th></th>\n",
       "      <th>Match id</th>\n",
       "      <th>year</th>\n",
       "      <th>runs_scored</th>\n",
       "      <th>wicket_confirmation</th>\n",
       "      <th>Bowler</th>\n",
       "      <th>Striker</th>\n",
       "    </tr>\n",
       "  </thead>\n",
       "  <tbody>\n",
       "    <tr>\n",
       "      <th>0</th>\n",
       "      <td>335982</td>\n",
       "      <td>2008</td>\n",
       "      <td>0</td>\n",
       "      <td>0</td>\n",
       "      <td>P Kumar</td>\n",
       "      <td>SC Ganguly</td>\n",
       "    </tr>\n",
       "    <tr>\n",
       "      <th>1</th>\n",
       "      <td>335982</td>\n",
       "      <td>2008</td>\n",
       "      <td>0</td>\n",
       "      <td>0</td>\n",
       "      <td>P Kumar</td>\n",
       "      <td>BB McCullum</td>\n",
       "    </tr>\n",
       "    <tr>\n",
       "      <th>2</th>\n",
       "      <td>335982</td>\n",
       "      <td>2008</td>\n",
       "      <td>0</td>\n",
       "      <td>0</td>\n",
       "      <td>P Kumar</td>\n",
       "      <td>BB McCullum</td>\n",
       "    </tr>\n",
       "    <tr>\n",
       "      <th>3</th>\n",
       "      <td>335982</td>\n",
       "      <td>2008</td>\n",
       "      <td>0</td>\n",
       "      <td>0</td>\n",
       "      <td>P Kumar</td>\n",
       "      <td>BB McCullum</td>\n",
       "    </tr>\n",
       "    <tr>\n",
       "      <th>4</th>\n",
       "      <td>335982</td>\n",
       "      <td>2008</td>\n",
       "      <td>0</td>\n",
       "      <td>0</td>\n",
       "      <td>P Kumar</td>\n",
       "      <td>BB McCullum</td>\n",
       "    </tr>\n",
       "  </tbody>\n",
       "</table>\n",
       "</div>"
      ],
      "text/plain": [
       "   Match id  year  runs_scored  wicket_confirmation   Bowler      Striker\n",
       "0    335982  2008            0                    0  P Kumar   SC Ganguly\n",
       "1    335982  2008            0                    0  P Kumar  BB McCullum\n",
       "2    335982  2008            0                    0  P Kumar  BB McCullum\n",
       "3    335982  2008            0                    0  P Kumar  BB McCullum\n",
       "4    335982  2008            0                    0  P Kumar  BB McCullum"
      ]
     },
     "execution_count": 51,
     "metadata": {},
     "output_type": "execute_result"
    }
   ],
   "source": [
    "ipl_bbbc[[\"Match id\", \"year\", \"runs_scored\",\"wicket_confirmation\",\"Bowler\",'Striker']].head()"
   ]
  },
  {
   "cell_type": "code",
   "execution_count": 52,
   "id": "85783410",
   "metadata": {
    "ExecuteTime": {
     "end_time": "2024-06-17T19:11:39.865256Z",
     "start_time": "2024-06-17T19:11:39.853673Z"
    }
   },
   "outputs": [],
   "source": [
    "import scipy.stats as st\n",
    "\n",
    "def get_best_distribution(data):\n",
    "    dist_names = ['alpha','beta','betaprime','burr12','crystalball',\n",
    "                  'dgamma','dweibull','erlang','exponnorm','f','fatiguelife',\n",
    "                  'gamma','gengamma','gumbel_l','johnsonsb','kappa4',\n",
    "                  'lognorm','nct','norm','norminvgauss','powernorm','rice',\n",
    "                  'recipinvgauss','t','trapz','truncnorm']\n",
    "    dist_results = []\n",
    "    params = {}\n",
    "    for dist_name in dist_names:\n",
    "        dist = getattr(st, dist_name)\n",
    "        param = dist.fit(data)\n",
    "        params[dist_name] = param\n",
    "        # Applying the Kolmogorov-Smirnov test\n",
    "        D, p = st.kstest(data, dist_name, args=param)\n",
    "        print(\"p value for \"+dist_name+\" = \"+str(p))\n",
    "        dist_results.append((dist_name, p))\n",
    "    # select the best fitted distribution\n",
    "    best_dist, best_p = (max(dist_results, key=lambda item: item[1]))\n",
    "    # store the name of the best fit and its p value\n",
    "    print(\"\\nBest fitting distribution: \"+str(best_dist))\n",
    "    print(\"Best p value: \"+ str(best_p))\n",
    "    print(\"Parameters for the best fit: \"+ str(params[best_dist]))\n",
    "    return best_dist, best_p, params[best_dist]"
   ]
  },
  {
   "cell_type": "code",
   "execution_count": 53,
   "id": "55e15b78",
   "metadata": {
    "ExecuteTime": {
     "end_time": "2024-06-17T19:12:26.492491Z",
     "start_time": "2024-06-17T19:12:26.388891Z"
    }
   },
   "outputs": [],
   "source": [
    "total_run_each_year = ipl_bbbc.groupby([\"year\", \"Striker\"])[\"runs_scored\"].sum().reset_index()"
   ]
  },
  {
   "cell_type": "code",
   "execution_count": 54,
   "id": "7ddf1dfe",
   "metadata": {
    "ExecuteTime": {
     "end_time": "2024-06-17T19:13:56.257180Z",
     "start_time": "2024-06-17T19:13:56.244475Z"
    }
   },
   "outputs": [
    {
     "name": "stdout",
     "output_type": "stream",
     "text": [
      "      year          Striker  runs_scored\n",
      "2549  2024       RD Gaikwad          509\n",
      "2589  2024          V Kohli          500\n",
      "2470  2024  B Sai Sudharsan          418\n",
      "2502  2024         KL Rahul          406\n",
      "2555  2024          RR Pant          398\n",
      "...    ...              ...          ...\n",
      "58    2008         L Balaji            0\n",
      "66    2008   M Muralitharan            0\n",
      "75    2008         MM Patel            0\n",
      "107   2008      S Sreesanth            0\n",
      "136   2008           U Kaul            0\n",
      "\n",
      "[2598 rows x 3 columns]\n"
     ]
    }
   ],
   "source": [
    "total_run_each_year.sort_values([\"year\", \"runs_scored\"], ascending=False, inplace=True)\n",
    "print(total_run_each_year)"
   ]
  },
  {
   "cell_type": "code",
   "execution_count": 55,
   "id": "d75c7310",
   "metadata": {
    "ExecuteTime": {
     "end_time": "2024-06-17T19:16:23.864219Z",
     "start_time": "2024-06-17T19:16:23.854326Z"
    }
   },
   "outputs": [],
   "source": [
    "list_top_batsman_last_three_year = {}\n",
    "for i in total_run_each_year[\"year\"].unique()[:3]:\n",
    "    list_top_batsman_last_three_year[i] = total_run_each_year[total_run_each_year.year == i][:3][\"Striker\"].unique().tolist()"
   ]
  },
  {
   "cell_type": "code",
   "execution_count": 56,
   "id": "c5b07d43",
   "metadata": {
    "ExecuteTime": {
     "end_time": "2024-06-17T19:16:29.605035Z",
     "start_time": "2024-06-17T19:16:29.596636Z"
    }
   },
   "outputs": [
    {
     "data": {
      "text/plain": [
       "{2024: ['RD Gaikwad', 'V Kohli', 'B Sai Sudharsan'],\n",
       " 2023: ['Shubman Gill', 'F du Plessis', 'DP Conway'],\n",
       " 2022: ['JC Buttler', 'KL Rahul', 'Q de Kock']}"
      ]
     },
     "execution_count": 56,
     "metadata": {},
     "output_type": "execute_result"
    }
   ],
   "source": [
    "list_top_batsman_last_three_year"
   ]
  },
  {
   "cell_type": "code",
   "execution_count": 57,
   "id": "80d9466a",
   "metadata": {
    "ExecuteTime": {
     "end_time": "2024-06-17T19:22:35.982497Z",
     "start_time": "2024-06-17T19:21:10.039474Z"
    }
   },
   "outputs": [
    {
     "name": "stdout",
     "output_type": "stream",
     "text": [
      "************************\n",
      "year: 2024  Batsman: RD Gaikwad\n",
      "p value for alpha = 2.599259711013304e-20\n",
      "p value for beta = 0.02041902689492492\n",
      "p value for betaprime = 0.019503763598668566\n",
      "p value for burr12 = 0.46882020698395865\n",
      "p value for crystalball = 0.2495364698727055\n",
      "p value for dgamma = 0.15707438431209653\n",
      "p value for dweibull = 0.20046582403736823\n",
      "p value for erlang = 1.893799588395604e-06\n",
      "p value for exponnorm = 0.4644304230917985\n",
      "p value for f = 1.3560920695663998e-07\n",
      "p value for fatiguelife = 1.304427037367869e-14\n",
      "p value for gamma = 0.005830868576003678\n",
      "p value for gengamma = 0.015331622187827243\n",
      "p value for gumbel_l = 0.05546236480086464\n",
      "p value for johnsonsb = 4.646964117947127e-13\n",
      "p value for kappa4 = 0.006363220770325362\n",
      "p value for lognorm = 1.1719355665219537e-16\n",
      "p value for nct = 0.5881570496217812\n",
      "p value for norm = 0.24953651809309751\n",
      "p value for norminvgauss = 0.5538573365184996\n",
      "p value for powernorm = 0.1788753268739086\n",
      "p value for rice = 0.1828753218433654\n",
      "p value for recipinvgauss = 0.06459275668874154\n",
      "p value for t = 0.2494021485911212\n",
      "p value for trapz = 7.476391685388162e-13\n",
      "p value for truncnorm = 0.24173236832621992\n",
      "\n",
      "Best fitting distribution: nct\n",
      "Best p value: 0.5881570496217812\n",
      "Parameters for the best fit: (5.718048022849898, 9.399490726283615, -54.25277343780452, 8.497060689079994)\n",
      "\n",
      "\n",
      "\n",
      "************************\n",
      "year: 2024  Batsman: V Kohli\n",
      "p value for alpha = 0.15371704349416937\n",
      "p value for beta = 0.7807091136830002\n",
      "p value for betaprime = 0.15634788776461095\n",
      "p value for burr12 = 0.2201385645469427\n",
      "p value for crystalball = 0.0013439120565839657\n",
      "p value for dgamma = 0.00010919434981556638\n",
      "p value for dweibull = 0.00012533056352014233\n",
      "p value for erlang = 1.7690285330312436e-06\n",
      "p value for exponnorm = 0.19376408619173924\n",
      "p value for f = 2.67581083049327e-28\n",
      "p value for fatiguelife = 0.11580928039819094\n",
      "p value for gamma = 0.00878530144799014\n",
      "p value for gengamma = 0.12789719547406364\n",
      "p value for gumbel_l = 9.544555237684654e-09\n",
      "p value for johnsonsb = 0.6600676697983927\n",
      "p value for kappa4 = 7.270307243307106e-18\n",
      "p value for lognorm = 6.635544190553261e-64\n",
      "p value for nct = 0.1460773085917223\n",
      "p value for norm = 0.0013439146566564463\n",
      "p value for norminvgauss = 0.16537494306738054\n",
      "p value for powernorm = 0.001959224898154651\n",
      "p value for rice = 0.0019496833019799402\n",
      "p value for recipinvgauss = 0.08835236633247623\n",
      "p value for t = 0.001870132740059356\n",
      "p value for trapz = 3.7326843413039495e-73\n",
      "p value for truncnorm = 0.08872852288813304\n",
      "\n",
      "Best fitting distribution: beta\n",
      "Best p value: 0.7807091136830002\n",
      "Parameters for the best fit: (0.816277299300862, 2.3391761669196907, -3.0251144495756596e-31, 130.79371484721577)\n",
      "\n",
      "\n",
      "\n",
      "************************\n",
      "year: 2024  Batsman: B Sai Sudharsan\n",
      "p value for alpha = 0.9519530946513592\n",
      "p value for beta = 0.2800374272685796\n",
      "p value for betaprime = 0.7272275700648236\n",
      "p value for burr12 = 0.03413730383965219\n",
      "p value for crystalball = 0.835174953613428\n",
      "p value for dgamma = 0.9003132708081405\n",
      "p value for dweibull = 0.8965770306228721\n",
      "p value for erlang = 0.2710277691398305\n",
      "p value for exponnorm = 0.8246418777999891\n",
      "p value for f = 0.9743698554720728\n",
      "p value for fatiguelife = 0.8259440652110397\n",
      "p value for gamma = 0.004088711345359375\n",
      "p value for gengamma = 0.029688848326628436\n",
      "p value for gumbel_l = 0.391243924609637\n",
      "p value for johnsonsb = 0.6775536294207896\n",
      "p value for kappa4 = 0.04273156928199129\n",
      "p value for lognorm = 0.9006026891568572\n",
      "p value for nct = 0.9627359408368513\n",
      "p value for norm = 0.8351750214399875\n",
      "p value for norminvgauss = 0.8696382419018381\n",
      "p value for powernorm = 0.837790705015941\n",
      "p value for rice = 0.8419161308192361\n",
      "p value for recipinvgauss = 0.7846020832234206\n",
      "p value for t = 0.8945403499225024\n",
      "p value for trapz = 4.962305050994183e-07\n",
      "p value for truncnorm = 0.8112138570439418\n",
      "\n",
      "Best fitting distribution: f\n",
      "Best p value: 0.9743698554720728\n",
      "Parameters for the best fit: (7.230079711691059, 94.80999484543659, -0.46870159044880233, 39.84202109781083)\n",
      "\n",
      "\n",
      "\n",
      "************************\n",
      "year: 2023  Batsman: Shubman Gill\n",
      "p value for alpha = 0.19370998562525277\n",
      "p value for beta = 0.35556757767764935\n",
      "p value for betaprime = 0.3320890781747331\n",
      "p value for burr12 = 0.17538338566759115\n",
      "p value for crystalball = 0.04047310237062518\n",
      "p value for dgamma = 0.004654508243065125\n",
      "p value for dweibull = 0.011388953681876424\n",
      "p value for erlang = 0.10415431199992453\n",
      "p value for exponnorm = 0.4076479842986115\n",
      "p value for f = 1.211921514554867e-19\n",
      "p value for fatiguelife = 0.2203915030909802\n",
      "p value for gamma = 0.01932605267751175\n",
      "p value for gengamma = 0.15830394669705838\n",
      "p value for gumbel_l = 0.00016365306017313027\n",
      "p value for johnsonsb = 0.6214006077216168\n",
      "p value for kappa4 = 8.537718673686839e-12\n",
      "p value for lognorm = 3.0444374367609376e-26\n",
      "p value for nct = 0.10819705795130274\n",
      "p value for norm = 0.0404730725346123\n",
      "p value for norminvgauss = 0.2256809493002525\n",
      "p value for powernorm = 0.008933578018930133\n",
      "p value for rice = 0.009231529839363262\n",
      "p value for recipinvgauss = 0.25695076184687626\n",
      "p value for t = 0.06288757117420063\n",
      "p value for trapz = 7.559368072972744e-39\n",
      "p value for truncnorm = 0.03322263046428764\n",
      "\n",
      "Best fitting distribution: johnsonsb\n",
      "Best p value: 0.6214006077216168\n",
      "Parameters for the best fit: (1.127462972555547, 0.7082040622620326, -1.0785135120261573, 140.5794643798755)\n",
      "\n",
      "\n",
      "\n",
      "************************\n",
      "year: 2023  Batsman: F du Plessis\n",
      "p value for alpha = 2.6514415564811303e-46\n",
      "p value for beta = 0.5913252599657466\n",
      "p value for betaprime = 0.21607006903997794\n",
      "p value for burr12 = 1.4054517820032704e-09\n",
      "p value for crystalball = 0.17738239944644252\n",
      "p value for dgamma = 0.0192505709952403\n",
      "p value for dweibull = 0.11610399857369136\n",
      "p value for erlang = 1.5300500072467267e-05\n",
      "p value for exponnorm = 0.029960734734523542\n",
      "p value for f = 2.3763783336197345e-18\n",
      "p value for fatiguelife = 0.4484315774329326\n",
      "p value for gamma = 2.658122267546294e-07\n",
      "p value for gengamma = 0.02408727588734938\n",
      "p value for gumbel_l = 0.0014475463566171465\n",
      "p value for johnsonsb = 0.18738807412325909\n",
      "p value for kappa4 = 7.855215717595119e-07\n",
      "p value for lognorm = 7.76777670084355e-36\n",
      "p value for nct = 0.3074928968583557\n",
      "p value for norm = 0.17738241885083328\n",
      "p value for norminvgauss = 0.5294908193576565\n",
      "p value for powernorm = 0.10747661134694209\n",
      "p value for rice = 0.10596246415943456\n",
      "p value for recipinvgauss = 0.25232880325823404\n",
      "p value for t = 0.17742481659951348\n",
      "p value for trapz = 2.2917131806009114e-31\n",
      "p value for truncnorm = 0.4976264771179164\n",
      "\n",
      "Best fitting distribution: beta\n",
      "Best p value: 0.5913252599657466\n",
      "Parameters for the best fit: (0.964930449377772, 2.3654747855916978, -2.4979006319546827e-31, 110.45316400426368)\n",
      "\n",
      "\n",
      "\n",
      "************************\n",
      "year: 2023  Batsman: DP Conway\n",
      "p value for alpha = 0.24224437379078456\n",
      "p value for beta = 0.9335739280635688\n",
      "p value for betaprime = 0.5939028036769798\n",
      "p value for burr12 = 0.031686490382365484\n",
      "p value for crystalball = 0.5919833978299178\n",
      "p value for dgamma = 0.659050680685497\n",
      "p value for dweibull = 0.47709033274534696\n",
      "p value for erlang = 0.5856582107400496\n",
      "p value for exponnorm = 0.5919442519144027\n",
      "p value for f = 0.03191068848461143\n",
      "p value for fatiguelife = 2.4470875845519328e-05\n",
      "p value for gamma = 0.5772798774478447\n",
      "p value for gengamma = 0.010638224653254702\n",
      "p value for gumbel_l = 0.6434008985606366\n",
      "p value for johnsonsb = 0.0010884744390042833\n",
      "p value for kappa4 = 0.39160448071756937\n",
      "p value for lognorm = 3.1507840694396127e-06\n",
      "p value for nct = 0.5925999092825844\n",
      "p value for norm = 0.5919834368439854\n",
      "p value for norminvgauss = 0.5925748844419921\n",
      "p value for powernorm = 0.45248629955798125\n",
      "p value for rice = 0.45768623194758373\n",
      "p value for recipinvgauss = 0.031005955700378007\n",
      "p value for t = 0.5919821236916709\n",
      "p value for trapz = 0.002896838839657856\n",
      "p value for truncnorm = 0.2820881279467663\n",
      "\n",
      "Best fitting distribution: beta\n",
      "Best p value: 0.9335739280635688\n",
      "Parameters for the best fit: (0.6250316512826838, 0.6786342050356671, -3.4741633120498916, 95.47416331204991)\n",
      "\n",
      "\n",
      "\n",
      "************************\n",
      "year: 2022  Batsman: JC Buttler\n",
      "p value for alpha = 3.235109657468491e-34\n",
      "p value for beta = 0.33455794816369444\n",
      "p value for betaprime = 0.0040250475185371615\n",
      "p value for burr12 = 0.7069656630104211\n",
      "p value for crystalball = 0.004608459861307201\n",
      "p value for dgamma = 0.00604199317470544\n",
      "p value for dweibull = 0.0028430680547548715\n",
      "p value for erlang = 0.0018449508774974754\n",
      "p value for exponnorm = 0.7137955109895673\n",
      "p value for f = 3.9553917967759444e-17\n",
      "p value for fatiguelife = 0.38179178822012705\n",
      "p value for gamma = 0.0007081454329517234\n",
      "p value for gengamma = 0.30583328083419026\n",
      "p value for gumbel_l = 0.00010416429669054019\n",
      "p value for johnsonsb = 0.5217216451704005\n",
      "p value for kappa4 = 1.0421737381705364e-12\n",
      "p value for lognorm = 5.0571684202935185e-28\n",
      "p value for nct = 0.45209196275779084\n",
      "p value for norm = 0.004608461486487414\n",
      "p value for norminvgauss = 0.4852525149516915\n",
      "p value for powernorm = 0.004689395332742374\n",
      "p value for rice = 0.004972139278291876\n",
      "p value for recipinvgauss = 0.2745923469661913\n",
      "p value for t = 0.007226707680555\n",
      "p value for trapz = 8.531784262849386e-37\n",
      "p value for truncnorm = 0.038943153796554775\n",
      "\n",
      "Best fitting distribution: exponnorm\n",
      "Best p value: 0.7137955109895673\n",
      "Parameters for the best fit: (3054.885295608514, -0.031805252610631926, 0.01119090499814962)\n",
      "\n",
      "\n",
      "\n",
      "************************\n",
      "year: 2022  Batsman: KL Rahul\n",
      "p value for alpha = 3.439822697019343e-50\n",
      "p value for beta = 0.3005191042009908\n",
      "p value for betaprime = 0.3083252430394988\n",
      "p value for burr12 = 0.46187713102710526\n",
      "p value for crystalball = 0.02169172684247167\n",
      "p value for dgamma = 0.06770258558041709\n",
      "p value for dweibull = 0.10186919378179626\n",
      "p value for erlang = 0.5713953642722212\n",
      "p value for exponnorm = 0.21607213755074883\n",
      "p value for f = 3.271576641222778e-23\n",
      "p value for fatiguelife = 0.4121975839714658\n",
      "p value for gamma = 0.5713982751559553\n",
      "p value for gengamma = 0.16010152392031385\n",
      "p value for gumbel_l = 0.001680677455102142\n",
      "p value for johnsonsb = 0.9402453631468569\n",
      "p value for kappa4 = 1.3895397566735892e-07\n",
      "p value for lognorm = 9.796218603186654e-32\n",
      "p value for nct = 0.20349727522799965\n",
      "p value for norm = 0.02169172706709699\n",
      "p value for norminvgauss = 0.38170378589734333\n",
      "p value for powernorm = 0.026645565499311186\n",
      "p value for rice = 0.027062729391134077\n",
      "p value for recipinvgauss = 0.4426895366659932\n",
      "p value for t = 0.02169408819105212\n",
      "p value for trapz = 1.8532732379092856e-35\n",
      "p value for truncnorm = 0.6753901355264902\n",
      "\n",
      "Best fitting distribution: johnsonsb\n",
      "Best p value: 0.9402453631468569\n",
      "Parameters for the best fit: (0.9331207997896902, 0.7776389044559282, -2.345202857963142, 143.0833194837059)\n",
      "\n",
      "\n",
      "\n",
      "************************\n",
      "year: 2022  Batsman: Q de Kock\n",
      "p value for alpha = 0.22421213312317712\n",
      "p value for beta = 0.2878667203270271\n",
      "p value for betaprime = 0.057402804910011485\n",
      "p value for burr12 = 0.4931279667432148\n",
      "p value for crystalball = 0.05846912701914453\n",
      "p value for dgamma = 0.0014560083713105465\n",
      "p value for dweibull = 0.010478670398011536\n",
      "p value for erlang = 0.08677035591445126\n",
      "p value for exponnorm = 0.43726373790797446\n",
      "p value for f = 4.2346585152678845e-12\n",
      "p value for fatiguelife = 0.12498847851930361\n",
      "p value for gamma = 0.027350558506526124\n",
      "p value for gengamma = 0.0926892512677634\n",
      "p value for gumbel_l = 9.485045980257123e-06\n",
      "p value for johnsonsb = 0.3450941869097196\n",
      "p value for kappa4 = 3.832745782875419e-18\n",
      "p value for lognorm = 2.3658846096591403e-28\n",
      "p value for nct = 0.2843302460638113\n",
      "p value for norm = 0.058469111112182226\n",
      "p value for norminvgauss = 0.2268711891858597\n",
      "p value for powernorm = 0.033823716873628396\n",
      "p value for rice = 0.03349090516310227\n",
      "p value for recipinvgauss = 0.1073883725317526\n",
      "p value for t = 0.041656498991066715\n",
      "p value for trapz = 3.947363741930107e-50\n",
      "p value for truncnorm = 0.08860764609495919\n",
      "\n",
      "Best fitting distribution: burr12\n",
      "Best p value: 0.4931279667432148\n",
      "Parameters for the best fit: (590926023.7998527, 0.05483081555360233, -969803927.022117, 969803927.160071)\n",
      "\n",
      "\n",
      "\n"
     ]
    }
   ],
   "source": [
    "import warnings\n",
    "warnings.filterwarnings('ignore')\n",
    "runs = ipl_bbbc.groupby(['Striker','Match id'])[['runs_scored']].sum().reset_index()\n",
    "\n",
    "for key in list_top_batsman_last_three_year:\n",
    "    for Striker in list_top_batsman_last_three_year[key]:\n",
    "        print(\"************************\")\n",
    "        print(\"year:\", key, \" Batsman:\", Striker)\n",
    "        get_best_distribution(runs[runs[\"Striker\"] == Striker][\"runs_scored\"])\n",
    "        print(\"\\n\\n\")"
   ]
  },
  {
   "cell_type": "code",
   "execution_count": 58,
   "id": "2ff8cda8",
   "metadata": {
    "ExecuteTime": {
     "end_time": "2024-06-17T19:22:49.634423Z",
     "start_time": "2024-06-17T19:22:49.547942Z"
    }
   },
   "outputs": [],
   "source": [
    "total_wicket_each_year = ipl_bbbc.groupby([\"year\", \"Bowler\"])[\"wicket_confirmation\"].sum().reset_index()"
   ]
  },
  {
   "cell_type": "code",
   "execution_count": 59,
   "id": "b6a46d55",
   "metadata": {
    "ExecuteTime": {
     "end_time": "2024-06-17T19:23:10.311435Z",
     "start_time": "2024-06-17T19:23:10.298595Z"
    }
   },
   "outputs": [
    {
     "name": "stdout",
     "output_type": "stream",
     "text": [
      "      year             Bowler  wicket_confirmation\n",
      "1836  2024           HV Patel                   19\n",
      "1875  2024       Mukesh Kumar                   15\n",
      "1822  2024     Arshdeep Singh                   14\n",
      "1842  2024          JJ Bumrah                   14\n",
      "1876  2024  Mustafizur Rahman                   14\n",
      "...    ...                ...                  ...\n",
      "16    2008           CL White                    0\n",
      "41    2008             K Goel                    0\n",
      "43    2008          LPC Silva                    0\n",
      "60    2008       Pankaj Singh                    0\n",
      "90    2008        VS Yeligati                    0\n",
      "\n",
      "[1929 rows x 3 columns]\n"
     ]
    }
   ],
   "source": [
    "total_wicket_each_year.sort_values([\"year\", \"wicket_confirmation\"], ascending=False, inplace=True)\n",
    "print(total_wicket_each_year)"
   ]
  },
  {
   "cell_type": "code",
   "execution_count": null,
   "id": "837998fd",
   "metadata": {
    "ExecuteTime": {
     "end_time": "2024-06-17T19:24:02.853357Z",
     "start_time": "2024-06-17T19:24:02.840409Z"
    }
   },
   "outputs": [],
   "source": [
    "list_top_bowler_last_three_year = {}\n",
    "for i in total_wicket_each_year[\"year\"].unique()[:3]:\n",
    "    list_top_bowler_last_three_year[i] = total_wicket_each_year[total_wicket_each_year.year == i][:3][\"Bowler\"].unique().tolist()\n",
    "list_top_bowler_last_three_year"
   ]
  },
  {
   "cell_type": "code",
   "execution_count": null,
   "id": "6bab9324",
   "metadata": {
    "ExecuteTime": {
     "end_time": "2024-06-17T19:41:47.739428Z",
     "start_time": "2024-06-17T19:40:24.043467Z"
    },
    "scrolled": true
   },
   "outputs": [],
   "source": [
    "import warnings\n",
    "warnings.filterwarnings('ignore')\n",
    "wickets = ipl_bbbc.groupby(['Bowler','Match id'])[['wicket_confirmation']].sum().reset_index()\n",
    "\n",
    "for key in list_top_bowler_last_three_year:\n",
    "    for bowler in list_top_bowler_last_three_year[key]:\n",
    "        print(\"************************\")\n",
    "        print(\"year:\", key, \" Bowler:\", bowler)\n",
    "        get_best_distribution(wickets[wickets[\"Bowler\"] == bowler][\"wicket_confirmation\"])\n",
    "        print(\"\\n\\n\")"
   ]
  },
  {
   "cell_type": "code",
   "execution_count": null,
   "id": "b41fac3c-7e63-493e-a38e-00d9be8e2751",
   "metadata": {
    "ExecuteTime": {
     "end_time": "2024-06-17T19:41:47.739428Z",
     "start_time": "2024-06-17T19:40:24.043467Z"
    },
    "scrolled": true
   },
   "outputs": [],
   "source": [
    "import warnings\n",
    "warnings.filterwarnings('ignore')\n",
    "wickets = ipl_bbbc.groupby(['Bowler','Match id'])[['wicket_confirmation']].sum().reset_index()\n",
    "\n",
    "for key in list_top_bowler_last_three_year:\n",
    "    for bowler in list_top_bowler_last_three_year[key]:\n",
    "        print(\"************************\")\n",
    "        print(\"year:\", key, \" Bowler:\", bowler)\n",
    "        get_best_distribution(wickets[wickets[\"Bowler\"] == bowler][\"wicket_confirmation\"])\n",
    "        print(\"\\n\\n\")"
   ]
  },
  {
   "cell_type": "code",
   "execution_count": null,
   "id": "e798c68a-2d7f-417b-9385-00bef5f9370d",
   "metadata": {
    "ExecuteTime": {
     "end_time": "2024-06-17T19:41:47.739428Z",
     "start_time": "2024-06-17T19:40:24.043467Z"
    },
    "scrolled": true
   },
   "outputs": [
    {
     "name": "stdout",
     "output_type": "stream",
     "text": [
      "************************\n",
      "year: 2024  Bowler: HV Patel\n",
      "p value for alpha = 0.0002993252328930706\n",
      "p value for beta = 2.777571908776589e-19\n",
      "p value for betaprime = 1.7052883875145053e-30\n",
      "p value for burr12 = 5.427998338605459e-15\n",
      "p value for crystalball = 1.1109118198587684e-05\n",
      "p value for dgamma = 4.375428528574276e-05\n",
      "p value for dweibull = 1.8553295107771936e-05\n",
      "p value for erlang = 5.473635282991912e-24\n",
      "p value for exponnorm = 0.0002813279943461815\n",
      "p value for f = 1.9012983291282487e-09\n",
      "p value for fatiguelife = 1.9734428958773156e-05\n",
      "p value for gamma = 1.470787431589663e-16\n",
      "p value for gengamma = 1.4345058849022962e-16\n",
      "p value for gumbel_l = 4.541523588271283e-05\n",
      "p value for johnsonsb = 2.827201329331457e-51\n",
      "p value for kappa4 = 9.177530010006471e-23\n",
      "p value for lognorm = 5.2162358572043325e-22\n",
      "p value for nct = 0.0001960277304576293\n",
      "p value for norm = 1.1109124960635979e-05\n",
      "p value for norminvgauss = 3.811196478020768e-05\n",
      "p value for powernorm = 3.2186417463058256e-05\n",
      "p value for rice = 3.354567282896991e-05\n",
      "p value for recipinvgauss = 5.05058721389515e-12\n",
      "p value for t = 9.451105792399515e-05\n",
      "p value for trapz = 1.0447243016629734e-51\n",
      "p value for truncnorm = 0.0002182292327632623\n",
      "\n",
      "Best fitting distribution: alpha\n",
      "Best p value: 0.0002993252328930706\n",
      "Parameters for the best fit: (5.200800514990576, -4.106246473111661, 27.580368990504883)\n",
      "\n",
      "\n",
      "\n",
      "************************\n",
      "year: 2024  Bowler: Mukesh Kumar\n",
      "p value for alpha = 0.6028771589628603\n",
      "p value for beta = 0.01195401496533166\n",
      "p value for betaprime = 0.001059893235946907\n",
      "p value for burr12 = 0.13577547952316893\n",
      "p value for crystalball = 0.2874602836058904\n",
      "p value for dgamma = 0.31965148068347327\n",
      "p value for dweibull = 0.34346643238289587\n",
      "p value for erlang = 1.0115032724485677e-06\n",
      "p value for exponnorm = 0.5154597105302978\n",
      "p value for f = 0.11745949856748239\n",
      "p value for fatiguelife = 0.30877430134651196\n",
      "p value for gamma = 0.009841759821405782\n",
      "p value for gengamma = 0.07933719921899518\n",
      "p value for gumbel_l = 0.25997636144422587\n",
      "p value for johnsonsb = 0.0878807795320421\n",
      "p value for kappa4 = 0.058739565059041765\n",
      "p value for lognorm = 0.00048729251059054235\n",
      "p value for nct = 0.5480580718802858\n",
      "p value for norm = 0.2874600799525868\n",
      "p value for norminvgauss = 0.3895684674359622\n",
      "p value for powernorm = 0.39511432172869\n",
      "p value for rice = 0.3950169895189477\n",
      "p value for recipinvgauss = 0.025198651172109288\n",
      "p value for t = 0.2874574742538948\n",
      "p value for trapz = 9.722628535925783e-06\n",
      "p value for truncnorm = 0.2598105493516787\n",
      "\n",
      "Best fitting distribution: alpha\n",
      "Best p value: 0.6028771589628603\n",
      "Parameters for the best fit: (6.113363581345144, -5.245777123804531, 39.57745263632695)\n",
      "\n",
      "\n",
      "\n",
      "************************\n",
      "year: 2024  Bowler: Arshdeep Singh\n",
      "p value for alpha = 0.002547644307209551\n",
      "p value for beta = 3.7725133611153275e-15\n",
      "p value for betaprime = 5.062381659741898e-22\n",
      "p value for burr12 = 4.603956720503075e-14\n",
      "p value for crystalball = 0.0002501762149918564\n",
      "p value for dgamma = 0.00028566200697101806\n",
      "p value for dweibull = 0.0016211491850549598\n",
      "p value for erlang = 2.269289539862191e-12\n",
      "p value for exponnorm = 0.0019097947631203649\n",
      "p value for f = 0.000227258408802241\n",
      "p value for fatiguelife = 2.169103029961132e-15\n",
      "p value for gamma = 6.618486511618167e-29\n",
      "p value for gengamma = 5.948936850168967e-23\n",
      "p value for gumbel_l = 0.00026864389982599567\n",
      "p value for johnsonsb = 5.472387372640376e-24\n",
      "p value for kappa4 = 8.181970339328129e-12\n",
      "p value for lognorm = 1.9909678840157557e-12\n",
      "p value for nct = 0.0014257070102444702\n",
      "p value for norm = 0.00025017539197677184\n",
      "p value for norminvgauss = 0.0001290021448063343\n",
      "p value for powernorm = 0.00047137775975730436\n",
      "p value for rice = 0.00047472774494963083\n",
      "p value for recipinvgauss = 1.9623061606588953e-10\n",
      "p value for t = 0.004473243416688644\n",
      "p value for trapz = 1.1911079182772876e-29\n",
      "p value for truncnorm = 0.00034221379785853717\n",
      "\n",
      "Best fitting distribution: t\n",
      "Best p value: 0.004473243416688644\n",
      "Parameters for the best fit: (4.822497644715119, 1.1162819391895469, 0.9153269129308039)\n",
      "\n",
      "\n",
      "\n",
      "************************\n",
      "year: 2023  Bowler: MM Sharma\n",
      "p value for alpha = 5.261792307574885e-09\n",
      "p value for beta = 3.369903415982389e-18\n",
      "p value for betaprime = 3.4236065288569164e-34\n",
      "p value for burr12 = 7.707563359968149e-27\n",
      "p value for crystalball = 5.614290141391915e-05\n",
      "p value for dgamma = 1.0498635614441156e-05\n",
      "p value for dweibull = 2.4126502201215078e-05\n",
      "p value for erlang = 2.203151538560566e-17\n",
      "p value for exponnorm = 7.116980583029457e-10\n",
      "p value for f = 6.394862208673673e-10\n",
      "p value for fatiguelife = 1.3371709463319658e-24\n",
      "p value for gamma = 2.599880000032353e-21\n",
      "p value for gengamma = 9.811276806787944e-14\n",
      "p value for gumbel_l = 3.5245319536008275e-05\n",
      "p value for johnsonsb = 2.4461951672713995e-40\n",
      "p value for kappa4 = 1.804941215806713e-17\n",
      "p value for lognorm = 1.7804559351656542e-19\n",
      "p value for nct = 6.513780696080299e-05\n",
      "p value for norm = 5.614083233477072e-05\n",
      "p value for norminvgauss = 2.385888242491267e-11\n",
      "p value for powernorm = 3.7448415090755237e-05\n",
      "p value for rice = 3.8846082842387146e-05\n",
      "p value for recipinvgauss = 1.932872667384276e-17\n",
      "p value for t = 0.00012008020713636171\n",
      "p value for trapz = 9.04818074400941e-47\n",
      "p value for truncnorm = 6.39486602704708e-10\n",
      "\n",
      "Best fitting distribution: t\n",
      "Best p value: 0.00012008020713636171\n",
      "Parameters for the best fit: (29.05846643939152, 1.2878076424619436, 1.197404368883093)\n",
      "\n",
      "\n",
      "\n",
      "************************\n",
      "year: 2023  Bowler: Mohammed Shami\n",
      "p value for alpha = 0.0005609846480252995\n",
      "p value for beta = 8.949702621553806e-16\n",
      "p value for betaprime = 1.0457228098472159e-27\n",
      "p value for burr12 = 3.809437306589196e-09\n",
      "p value for crystalball = 8.97379813361614e-06\n",
      "p value for dgamma = 1.3065638273544516e-11\n",
      "p value for dweibull = 1.0406851960138218e-05\n",
      "p value for erlang = 8.670599832745995e-28\n",
      "p value for exponnorm = 0.00047630665162716083\n",
      "p value for f = 2.404756281608377e-07\n",
      "p value for fatiguelife = 7.5219130194197114e-06\n",
      "p value for gamma = 5.248327144461885e-42\n",
      "p value for gengamma = 4.371554773381843e-42\n",
      "p value for gumbel_l = 2.275582226089825e-06\n",
      "p value for johnsonsb = 8.40193769288202e-62\n",
      "p value for kappa4 = 5.440679375551408e-12\n",
      "p value for lognorm = 8.538407160860825e-23\n",
      "p value for nct = 0.0003740512893746841\n",
      "p value for norm = 8.973880770320002e-06\n",
      "p value for norminvgauss = 3.3178705246034226e-05\n",
      "p value for powernorm = 0.00011849751955444802\n",
      "p value for rice = 0.00011833002960228116\n"
     ]
    }
   ],
   "source": [
    "import warnings\n",
    "warnings.filterwarnings('ignore')\n",
    "wickets = ipl_bbbc.groupby(['Bowler','Match id'])[['wicket_confirmation']].sum().reset_index()\n",
    "\n",
    "for key in list_top_bowler_last_three_year:\n",
    "    for bowler in list_top_bowler_last_three_year[key]:\n",
    "        print(\"************************\")\n",
    "        print(\"year:\", key, \" Bowler:\", bowler)\n",
    "        get_best_distribution(wickets[wickets[\"Bowler\"] == bowler][\"wicket_confirmation\"])\n",
    "        print(\"\\n\\n\")"
   ]
  },
  {
   "cell_type": "code",
   "execution_count": 60,
   "id": "0fe50381-bf98-4c0a-af10-566f9ffeadb2",
   "metadata": {},
   "outputs": [
    {
     "name": "stdout",
     "output_type": "stream",
     "text": [
      "p value for alpha = 0.6522295964565754\n",
      "p value for beta = 0.018608843105368842\n",
      "p value for betaprime = 0.10346041664049466\n",
      "p value for burr12 = 0.3261713152701813\n",
      "p value for crystalball = 0.4406599385105532\n",
      "p value for dgamma = 0.637401927114724\n",
      "p value for dweibull = 0.6246664613131965\n",
      "p value for erlang = 0.42343964334705064\n",
      "p value for exponnorm = 0.42840563534368614\n",
      "p value for f = 0.42343964334705064\n",
      "p value for fatiguelife = 0.10349841455268294\n",
      "p value for gamma = 0.1393410995906752\n",
      "p value for gengamma = 0.37818913056448034\n",
      "p value for gumbel_l = 0.5020137188191021\n",
      "p value for johnsonsb = 0.4234411313254466\n",
      "p value for kappa4 = 0.04828537183030013\n",
      "p value for lognorm = 0.16690450474319274\n",
      "p value for nct = 0.0037754328120684273\n",
      "p value for norm = 0.44065996518367545\n",
      "p value for norminvgauss = 4.6613096337875796e-05\n",
      "p value for powernorm = 0.30757330059930466\n",
      "p value for rice = 0.30799152631966886\n",
      "p value for recipinvgauss = 0.4234407555679781\n",
      "p value for t = 0.7142078852338818\n",
      "p value for trapz = 0.003277544005706447\n",
      "p value for truncnorm = 0.1387695750627822\n",
      "\n",
      "Best fitting distribution: t\n",
      "Best p value: 0.7142078852338818\n",
      "Parameters for the best fit: (1.0604185220507425, 0.7473882304582926, 0.8169194364671984)\n"
     ]
    },
    {
     "data": {
      "text/plain": [
       "('t',\n",
       " 0.7142078852338818,\n",
       " (1.0604185220507425, 0.7473882304582926, 0.8169194364671984))"
      ]
     },
     "execution_count": 60,
     "metadata": {},
     "output_type": "execute_result"
    }
   ],
   "source": [
    "# Filter the runs scored by Mustafizur Rahman\n",
    "Mustafizur_Rahman_runs = runs[runs[\"Striker\"] == \"Mustafizur Rahman\"][\"runs_scored\"]\n",
    "\n",
    "# Fit the distribution to Mustafizur Rahman's runs scored\n",
    "get_best_distribution(Mustafizur_Rahman_runs)"
   ]
  },
  {
   "cell_type": "markdown",
   "id": "3738f046",
   "metadata": {
    "ExecuteTime": {
     "end_time": "2024-06-17T19:30:56.139137Z",
     "start_time": "2024-06-17T19:30:56.136008Z"
    }
   },
   "source": [
    "**Relationship between the performance of a player and the salary he gets**"
   ]
  },
  {
   "cell_type": "code",
   "execution_count": 61,
   "id": "789ddaf2",
   "metadata": {
    "ExecuteTime": {
     "end_time": "2024-06-17T19:57:30.473869Z",
     "start_time": "2024-06-17T19:57:30.467885Z"
    }
   },
   "outputs": [],
   "source": [
    "R2024 =total_run_each_year[total_run_each_year['year']==2024]"
   ]
  },
  {
   "cell_type": "code",
   "execution_count": 62,
   "id": "6ba9a083",
   "metadata": {
    "ExecuteTime": {
     "end_time": "2024-06-17T20:15:26.949292Z",
     "start_time": "2024-06-17T20:15:26.944738Z"
    }
   },
   "outputs": [
    {
     "name": "stdout",
     "output_type": "stream",
     "text": [
      "Requirement already satisfied: fuzzywuzzy in c:\\users\\sayas\\anaconda3\\lib\\site-packages (0.18.0)\n",
      "Note: you may need to restart the kernel to use updated packages.\n"
     ]
    }
   ],
   "source": [
    "pip install fuzzywuzzy"
   ]
  },
  {
   "cell_type": "code",
   "execution_count": 63,
   "id": "ccd0c41e",
   "metadata": {
    "ExecuteTime": {
     "end_time": "2024-06-17T20:15:41.651153Z",
     "start_time": "2024-06-17T20:15:33.461692Z"
    }
   },
   "outputs": [],
   "source": [
    "from fuzzywuzzy import process\n",
    "\n",
    "# Convert to DataFrame\n",
    "df_salary = ipl_salary.copy()\n",
    "df_runs = R2024.copy()\n",
    "\n",
    "# Function to match names\n",
    "def match_names(name, names_list):\n",
    "    match, score = process.extractOne(name, names_list)\n",
    "    return match if score >= 80 else None  # Use a threshold score of 80\n",
    "\n",
    "# Create a new column in df_salary with matched names from df_runs\n",
    "df_salary['Matched_Player'] = df_salary['Player'].apply(lambda x: match_names(x, df_runs['Striker'].tolist()))\n",
    "\n",
    "# Merge the DataFrames on the matched names\n",
    "df_merged = pd.merge(df_salary, df_runs, left_on='Matched_Player', right_on='Striker')"
   ]
  },
  {
   "cell_type": "code",
   "execution_count": 64,
   "id": "307e8a5f",
   "metadata": {
    "ExecuteTime": {
     "end_time": "2024-06-17T20:08:31.379361Z",
     "start_time": "2024-06-17T20:08:31.346734Z"
    }
   },
   "outputs": [
    {
     "name": "stdout",
     "output_type": "stream",
     "text": [
      "<class 'pandas.core.frame.DataFrame'>\n",
      "RangeIndex: 111 entries, 0 to 110\n",
      "Data columns (total 9 columns):\n",
      " #   Column          Non-Null Count  Dtype  \n",
      "---  ------          --------------  -----  \n",
      " 0   Player          111 non-null    object \n",
      " 1   Salary          111 non-null    object \n",
      " 2   Rs              111 non-null    int64  \n",
      " 3   international   111 non-null    int64  \n",
      " 4   iconic          0 non-null      float64\n",
      " 5   Matched_Player  111 non-null    object \n",
      " 6   year            111 non-null    int32  \n",
      " 7   Striker         111 non-null    object \n",
      " 8   runs_scored     111 non-null    int64  \n",
      "dtypes: float64(1), int32(1), int64(3), object(4)\n",
      "memory usage: 7.5+ KB\n"
     ]
    }
   ],
   "source": [
    "df_merged.info()"
   ]
  },
  {
   "cell_type": "code",
   "execution_count": 65,
   "id": "d24035b7",
   "metadata": {
    "ExecuteTime": {
     "end_time": "2024-06-17T20:08:37.821228Z",
     "start_time": "2024-06-17T20:08:37.774094Z"
    }
   },
   "outputs": [
    {
     "name": "stdout",
     "output_type": "stream",
     "text": [
      "Correlation between Salary and Runs: 0.30612483765821674\n"
     ]
    }
   ],
   "source": [
    "# Calculate the correlation\n",
    "correlation = df_merged['Rs'].corr(df_merged['runs_scored'])\n",
    "\n",
    "print(\"Correlation between Salary and Runs:\", correlation)"
   ]
  },
  {
   "cell_type": "code",
   "execution_count": 66,
   "id": "4fb485cb-6b65-4e6c-83a9-c1c251277241",
   "metadata": {},
   "outputs": [],
   "source": [
    "grouped_data = ipl_bbb.groupby(['Season', 'Innings No', 'Striker', 'Bowler']).agg({\n",
    "    'runs_scored': 'sum',\n",
    "    'wicket_confirmation': 'sum'\n",
    "}).reset_index()"
   ]
  },
  {
   "cell_type": "code",
   "execution_count": null,
   "id": "a6f72924-9604-4abe-ab6e-c16c45248808",
   "metadata": {},
   "outputs": [],
   "source": []
  }
 ],
 "metadata": {
  "kernelspec": {
   "display_name": "Python 3 (ipykernel)",
   "language": "python",
   "name": "python3"
  },
  "language_info": {
   "codemirror_mode": {
    "name": "ipython",
    "version": 3
   },
   "file_extension": ".py",
   "mimetype": "text/x-python",
   "name": "python",
   "nbconvert_exporter": "python",
   "pygments_lexer": "ipython3",
   "version": "3.11.7"
  },
  "varInspector": {
   "cols": {
    "lenName": 16,
    "lenType": 16,
    "lenVar": 40
   },
   "kernels_config": {
    "python": {
     "delete_cmd_postfix": "",
     "delete_cmd_prefix": "del ",
     "library": "var_list.py",
     "varRefreshCmd": "print(var_dic_list())"
    },
    "r": {
     "delete_cmd_postfix": ") ",
     "delete_cmd_prefix": "rm(",
     "library": "var_list.r",
     "varRefreshCmd": "cat(var_dic_list()) "
    }
   },
   "types_to_exclude": [
    "module",
    "function",
    "builtin_function_or_method",
    "instance",
    "_Feature"
   ],
   "window_display": false
  }
 },
 "nbformat": 4,
 "nbformat_minor": 5
}
