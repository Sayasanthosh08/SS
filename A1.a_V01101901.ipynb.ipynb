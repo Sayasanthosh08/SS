{
 "cells": [
  {
   "cell_type": "code",
   "execution_count": 201,
   "id": "0532a361",
   "metadata": {
    "ExecuteTime": {
     "end_time": "2024-06-16T10:15:49.396620Z",
     "start_time": "2024-06-16T10:15:47.995969Z"
    }
   },
   "outputs": [],
   "source": [
    "import os, pandas as pd, numpy as np"
   ]
  },
  {
   "cell_type": "code",
   "execution_count": 202,
   "id": "fd3e9cd0",
   "metadata": {
    "ExecuteTime": {
     "end_time": "2024-06-16T10:15:50.841477Z",
     "start_time": "2024-06-16T10:15:50.836891Z"
    }
   },
   "outputs": [],
   "source": [
    "os.chdir(\"C:\\\\Users\\\\sayas\\\\Downloads\")"
   ]
  },
  {
   "cell_type": "code",
   "execution_count": 203,
   "id": "2c7b48a8",
   "metadata": {
    "ExecuteTime": {
     "end_time": "2024-06-16T10:16:04.084743Z",
     "start_time": "2024-06-16T10:15:52.236332Z"
    }
   },
   "outputs": [],
   "source": [
    "df=pd.read_csv(\"NSSO68.csv\",encoding=\"Latin-1\", low_memory=False)"
   ]
  },
  {
   "cell_type": "code",
   "execution_count": 204,
   "id": "550bbf03",
   "metadata": {
    "ExecuteTime": {
     "end_time": "2024-06-16T10:16:05.280199Z",
     "start_time": "2024-06-16T10:16:05.210652Z"
    }
   },
   "outputs": [
    {
     "data": {
      "text/html": [
       "<div>\n",
       "<style scoped>\n",
       "    .dataframe tbody tr th:only-of-type {\n",
       "        vertical-align: middle;\n",
       "    }\n",
       "\n",
       "    .dataframe tbody tr th {\n",
       "        vertical-align: top;\n",
       "    }\n",
       "\n",
       "    .dataframe thead th {\n",
       "        text-align: right;\n",
       "    }\n",
       "</style>\n",
       "<table border=\"1\" class=\"dataframe\">\n",
       "  <thead>\n",
       "    <tr style=\"text-align: right;\">\n",
       "      <th></th>\n",
       "      <th>slno</th>\n",
       "      <th>grp</th>\n",
       "      <th>Round_Centre</th>\n",
       "      <th>FSU_number</th>\n",
       "      <th>Round</th>\n",
       "      <th>Schedule_Number</th>\n",
       "      <th>Sample</th>\n",
       "      <th>Sector</th>\n",
       "      <th>state</th>\n",
       "      <th>State_Region</th>\n",
       "      <th>...</th>\n",
       "      <th>pickle_v</th>\n",
       "      <th>sauce_jam_v</th>\n",
       "      <th>Othrprocessed_v</th>\n",
       "      <th>Beveragestotal_v</th>\n",
       "      <th>foodtotal_v</th>\n",
       "      <th>foodtotal_q</th>\n",
       "      <th>state_1</th>\n",
       "      <th>Region</th>\n",
       "      <th>fruits_df_tt_v</th>\n",
       "      <th>fv_tot</th>\n",
       "    </tr>\n",
       "  </thead>\n",
       "  <tbody>\n",
       "    <tr>\n",
       "      <th>0</th>\n",
       "      <td>1</td>\n",
       "      <td>4.10E+31</td>\n",
       "      <td>1</td>\n",
       "      <td>41000</td>\n",
       "      <td>68</td>\n",
       "      <td>10</td>\n",
       "      <td>1</td>\n",
       "      <td>2</td>\n",
       "      <td>24</td>\n",
       "      <td>242</td>\n",
       "      <td>...</td>\n",
       "      <td>0.0</td>\n",
       "      <td>0.0</td>\n",
       "      <td>0.0</td>\n",
       "      <td>0.000000</td>\n",
       "      <td>1141.492400</td>\n",
       "      <td>30.942394</td>\n",
       "      <td>GUJ</td>\n",
       "      <td>2</td>\n",
       "      <td>12.000000</td>\n",
       "      <td>154.18</td>\n",
       "    </tr>\n",
       "    <tr>\n",
       "      <th>1</th>\n",
       "      <td>2</td>\n",
       "      <td>4.10E+31</td>\n",
       "      <td>1</td>\n",
       "      <td>41000</td>\n",
       "      <td>68</td>\n",
       "      <td>10</td>\n",
       "      <td>1</td>\n",
       "      <td>2</td>\n",
       "      <td>24</td>\n",
       "      <td>242</td>\n",
       "      <td>...</td>\n",
       "      <td>0.0</td>\n",
       "      <td>0.0</td>\n",
       "      <td>0.0</td>\n",
       "      <td>17.500000</td>\n",
       "      <td>1244.553500</td>\n",
       "      <td>29.286153</td>\n",
       "      <td>GUJ</td>\n",
       "      <td>2</td>\n",
       "      <td>333.000000</td>\n",
       "      <td>484.95</td>\n",
       "    </tr>\n",
       "    <tr>\n",
       "      <th>2</th>\n",
       "      <td>3</td>\n",
       "      <td>4.10E+31</td>\n",
       "      <td>1</td>\n",
       "      <td>41000</td>\n",
       "      <td>68</td>\n",
       "      <td>10</td>\n",
       "      <td>1</td>\n",
       "      <td>2</td>\n",
       "      <td>24</td>\n",
       "      <td>242</td>\n",
       "      <td>...</td>\n",
       "      <td>0.0</td>\n",
       "      <td>0.0</td>\n",
       "      <td>0.0</td>\n",
       "      <td>0.000000</td>\n",
       "      <td>1050.315400</td>\n",
       "      <td>31.527046</td>\n",
       "      <td>GUJ</td>\n",
       "      <td>2</td>\n",
       "      <td>35.000000</td>\n",
       "      <td>214.84</td>\n",
       "    </tr>\n",
       "    <tr>\n",
       "      <th>3</th>\n",
       "      <td>4</td>\n",
       "      <td>4.10E+31</td>\n",
       "      <td>1</td>\n",
       "      <td>41000</td>\n",
       "      <td>68</td>\n",
       "      <td>10</td>\n",
       "      <td>1</td>\n",
       "      <td>2</td>\n",
       "      <td>24</td>\n",
       "      <td>242</td>\n",
       "      <td>...</td>\n",
       "      <td>0.0</td>\n",
       "      <td>0.0</td>\n",
       "      <td>0.0</td>\n",
       "      <td>33.333333</td>\n",
       "      <td>1142.591667</td>\n",
       "      <td>27.834607</td>\n",
       "      <td>GUJ</td>\n",
       "      <td>2</td>\n",
       "      <td>168.333333</td>\n",
       "      <td>302.30</td>\n",
       "    </tr>\n",
       "    <tr>\n",
       "      <th>4</th>\n",
       "      <td>5</td>\n",
       "      <td>4.10E+31</td>\n",
       "      <td>1</td>\n",
       "      <td>41000</td>\n",
       "      <td>68</td>\n",
       "      <td>10</td>\n",
       "      <td>1</td>\n",
       "      <td>2</td>\n",
       "      <td>24</td>\n",
       "      <td>242</td>\n",
       "      <td>...</td>\n",
       "      <td>0.0</td>\n",
       "      <td>0.0</td>\n",
       "      <td>0.0</td>\n",
       "      <td>75.000000</td>\n",
       "      <td>945.249500</td>\n",
       "      <td>27.600713</td>\n",
       "      <td>GUJ</td>\n",
       "      <td>2</td>\n",
       "      <td>15.000000</td>\n",
       "      <td>148.00</td>\n",
       "    </tr>\n",
       "  </tbody>\n",
       "</table>\n",
       "<p>5 rows × 384 columns</p>\n",
       "</div>"
      ],
      "text/plain": [
       "   slno       grp  Round_Centre  FSU_number  Round  Schedule_Number  Sample  \\\n",
       "0     1  4.10E+31             1       41000     68               10       1   \n",
       "1     2  4.10E+31             1       41000     68               10       1   \n",
       "2     3  4.10E+31             1       41000     68               10       1   \n",
       "3     4  4.10E+31             1       41000     68               10       1   \n",
       "4     5  4.10E+31             1       41000     68               10       1   \n",
       "\n",
       "   Sector  state  State_Region  ...  pickle_v  sauce_jam_v  Othrprocessed_v  \\\n",
       "0       2     24           242  ...       0.0          0.0              0.0   \n",
       "1       2     24           242  ...       0.0          0.0              0.0   \n",
       "2       2     24           242  ...       0.0          0.0              0.0   \n",
       "3       2     24           242  ...       0.0          0.0              0.0   \n",
       "4       2     24           242  ...       0.0          0.0              0.0   \n",
       "\n",
       "   Beveragestotal_v  foodtotal_v  foodtotal_q  state_1  Region  \\\n",
       "0          0.000000  1141.492400    30.942394      GUJ       2   \n",
       "1         17.500000  1244.553500    29.286153      GUJ       2   \n",
       "2          0.000000  1050.315400    31.527046      GUJ       2   \n",
       "3         33.333333  1142.591667    27.834607      GUJ       2   \n",
       "4         75.000000   945.249500    27.600713      GUJ       2   \n",
       "\n",
       "   fruits_df_tt_v  fv_tot  \n",
       "0       12.000000  154.18  \n",
       "1      333.000000  484.95  \n",
       "2       35.000000  214.84  \n",
       "3      168.333333  302.30  \n",
       "4       15.000000  148.00  \n",
       "\n",
       "[5 rows x 384 columns]"
      ]
     },
     "execution_count": 204,
     "metadata": {},
     "output_type": "execute_result"
    }
   ],
   "source": [
    "df.head()"
   ]
  },
  {
   "cell_type": "code",
   "execution_count": 205,
   "id": "2d35a4db",
   "metadata": {
    "ExecuteTime": {
     "end_time": "2024-06-16T10:16:09.802843Z",
     "start_time": "2024-06-16T10:16:09.648192Z"
    }
   },
   "outputs": [],
   "source": [
    "WB = df[df['state_1']==\"WB\"]"
   ]
  },
  {
   "cell_type": "code",
   "execution_count": 206,
   "id": "32725550",
   "metadata": {
    "ExecuteTime": {
     "end_time": "2024-06-16T10:16:11.812225Z",
     "start_time": "2024-06-16T10:16:11.783885Z"
    }
   },
   "outputs": [
    {
     "data": {
      "text/plain": [
       "soyabean_v         6315\n",
       "soyabean_q         6315\n",
       "Meals_School       6249\n",
       "Meals_Employer     6145\n",
       "Land_Leased_out    6067\n",
       "                   ... \n",
       "chillig_q             0\n",
       "palak_q               0\n",
       "carrot_q              0\n",
       "radish_q              0\n",
       "fv_tot                0\n",
       "Length: 384, dtype: int64"
      ]
     },
     "execution_count": 206,
     "metadata": {},
     "output_type": "execute_result"
    }
   ],
   "source": [
    "WB.isnull().sum().sort_values(ascending = False)"
   ]
  },
  {
   "cell_type": "code",
   "execution_count": 207,
   "id": "e4792270",
   "metadata": {
    "ExecuteTime": {
     "end_time": "2024-06-16T10:16:13.989311Z",
     "start_time": "2024-06-16T10:16:13.983296Z"
    }
   },
   "outputs": [
    {
     "data": {
      "text/plain": [
       "Index(['slno', 'grp', 'Round_Centre', 'FSU_number', 'Round', 'Schedule_Number',\n",
       "       'Sample', 'Sector', 'state', 'State_Region',\n",
       "       ...\n",
       "       'pickle_v', 'sauce_jam_v', 'Othrprocessed_v', 'Beveragestotal_v',\n",
       "       'foodtotal_v', 'foodtotal_q', 'state_1', 'Region', 'fruits_df_tt_v',\n",
       "       'fv_tot'],\n",
       "      dtype='object', length=384)"
      ]
     },
     "execution_count": 207,
     "metadata": {},
     "output_type": "execute_result"
    }
   ],
   "source": [
    "df.columns"
   ]
  },
  {
   "cell_type": "code",
   "execution_count": 208,
   "id": "995fbd7d",
   "metadata": {
    "ExecuteTime": {
     "end_time": "2024-06-16T10:20:50.710568Z",
     "start_time": "2024-06-16T10:20:50.703352Z"
    }
   },
   "outputs": [],
   "source": [
    "WB_new = WB[['state_1', 'District', 'Sector','Region','State_Region','ricetotal_q','wheattotal_q','moong_q','Milktotal_q','chicken_q','bread_q','foodtotal_q','Beveragestotal_v','Meals_At_Home']]"
   ]
  },
  {
   "cell_type": "code",
   "execution_count": 209,
   "id": "c51a30c5",
   "metadata": {
    "ExecuteTime": {
     "end_time": "2024-06-16T10:20:51.924641Z",
     "start_time": "2024-06-16T10:20:51.915336Z"
    }
   },
   "outputs": [
    {
     "data": {
      "text/plain": [
       "Meals_At_Home       111\n",
       "state_1               0\n",
       "District              0\n",
       "Sector                0\n",
       "Region                0\n",
       "State_Region          0\n",
       "ricetotal_q           0\n",
       "wheattotal_q          0\n",
       "moong_q               0\n",
       "Milktotal_q           0\n",
       "chicken_q             0\n",
       "bread_q               0\n",
       "foodtotal_q           0\n",
       "Beveragestotal_v      0\n",
       "dtype: int64"
      ]
     },
     "execution_count": 209,
     "metadata": {},
     "output_type": "execute_result"
    }
   ],
   "source": [
    "WB_new.isnull().sum().sort_values(ascending = False)"
   ]
  },
  {
   "cell_type": "code",
   "execution_count": 210,
   "id": "42af1fb2",
   "metadata": {
    "ExecuteTime": {
     "end_time": "2024-06-16T10:20:53.377364Z",
     "start_time": "2024-06-16T10:20:53.372637Z"
    }
   },
   "outputs": [],
   "source": [
    "WB_clean = WB_new.copy()"
   ]
  },
  {
   "cell_type": "code",
   "execution_count": 211,
   "id": "72563526",
   "metadata": {
    "ExecuteTime": {
     "end_time": "2024-06-16T10:20:56.084026Z",
     "start_time": "2024-06-16T10:20:56.078287Z"
    }
   },
   "outputs": [],
   "source": [
    "WB_clean.loc[:, 'Meals_At_Home'] = WB_clean['Meals_At_Home'].fillna(WB_new['Meals_At_Home'].mean())"
   ]
  },
  {
   "cell_type": "code",
   "execution_count": 212,
   "id": "5330a3c9",
   "metadata": {
    "ExecuteTime": {
     "end_time": "2024-06-16T10:21:00.719814Z",
     "start_time": "2024-06-16T10:21:00.711639Z"
    }
   },
   "outputs": [
    {
     "data": {
      "text/plain": [
       "state_1             False\n",
       "District            False\n",
       "Sector              False\n",
       "Region              False\n",
       "State_Region        False\n",
       "ricetotal_q         False\n",
       "wheattotal_q        False\n",
       "moong_q             False\n",
       "Milktotal_q         False\n",
       "chicken_q           False\n",
       "bread_q             False\n",
       "foodtotal_q         False\n",
       "Beveragestotal_v    False\n",
       "Meals_At_Home       False\n",
       "dtype: bool"
      ]
     },
     "execution_count": 212,
     "metadata": {},
     "output_type": "execute_result"
    }
   ],
   "source": [
    "WB_clean.isnull().any()"
   ]
  },
  {
   "cell_type": "code",
   "execution_count": 213,
   "id": "7c188e84",
   "metadata": {
    "ExecuteTime": {
     "end_time": "2024-06-16T04:25:21.294749Z",
     "start_time": "2024-06-16T04:25:21.291497Z"
    }
   },
   "outputs": [],
   "source": [
    "# Outlier Checking"
   ]
  },
  {
   "cell_type": "code",
   "execution_count": 214,
   "id": "53723eaa",
   "metadata": {
    "ExecuteTime": {
     "end_time": "2024-06-16T10:22:13.080162Z",
     "start_time": "2024-06-16T10:22:12.710152Z"
    }
   },
   "outputs": [
    {
     "data": {
      "image/png": "[encoded data removed]",
      "text/plain": [
       "<Figure size 800x600 with 1 Axes>"
      ]
     },
     "metadata": {},
     "output_type": "display_data"
    }
   ],
   "source": [
    "import matplotlib.pyplot as plt\n",
    "# Assuming WB_clean is your DataFrame\n",
    "plt.figure(figsize=(8, 6))\n",
    "plt.boxplot(WB_clean['ricetotal_q'])\n",
    "plt.xlabel('ricetotal_q')\n",
    "plt.ylabel('Values')\n",
    "plt.title('Boxplot of ricetotal_q')\n",
    "plt.show()"
   ]
  },
  {
   "cell_type": "code",
   "execution_count": 215,
   "id": "adbfd8ac",
   "metadata": {
    "ExecuteTime": {
     "end_time": "2024-06-16T10:22:31.063124Z",
     "start_time": "2024-06-16T10:22:31.055234Z"
    }
   },
   "outputs": [],
   "source": [
    "rice1 = WB_clean['ricetotal_q'].quantile(0.25)\n",
    "rice2 = WB_clean['ricetotal_q'].quantile(0.75)\n",
    "iqr_rice = rice2-rice1\n",
    "up_limit = rice2 + 1.5*iqr_rice\n",
    "low_limit = rice1 - 1.5*iqr_rice"
   ]
  },
  {
   "cell_type": "code",
   "execution_count": 216,
   "id": "0ae50df0",
   "metadata": {
    "ExecuteTime": {
     "end_time": "2024-06-16T10:22:43.643572Z",
     "start_time": "2024-06-16T10:22:43.634294Z"
    }
   },
   "outputs": [],
   "source": [
    "WB_clean=WB_new[(WB_new['ricetotal_q']<=up_limit)&(WB_new['ricetotal_q']>=low_limit)]"
   ]
  },
  {
   "cell_type": "code",
   "execution_count": 217,
   "id": "bb56d36d",
   "metadata": {
    "ExecuteTime": {
     "end_time": "2024-06-16T10:23:15.268648Z",
     "start_time": "2024-06-16T10:23:15.119902Z"
    }
   },
   "outputs": [
    {
     "data": {
      "text/plain": [
       "{'whiskers': [<matplotlib.lines.Line2D at 0x17d49f88b10>,\n",
       "  <matplotlib.lines.Line2D at 0x17d49f897d0>],\n",
       " 'caps': [<matplotlib.lines.Line2D at 0x17d49f8a110>,\n",
       "  <matplotlib.lines.Line2D at 0x17d49f8ac10>],\n",
       " 'boxes': [<matplotlib.lines.Line2D at 0x17d49f88090>],\n",
       " 'medians': [<matplotlib.lines.Line2D at 0x17d49f8b750>],\n",
       " 'fliers': [<matplotlib.lines.Line2D at 0x17d49f98190>],\n",
       " 'means': []}"
      ]
     },
     "execution_count": 217,
     "metadata": {},
     "output_type": "execute_result"
    },
    {
     "data": {
      "image/png": "[encoded data removed]",
      "text/plain": [
       "<Figure size 640x480 with 1 Axes>"
      ]
     },
     "metadata": {},
     "output_type": "display_data"
    }
   ],
   "source": [
    "plt.boxplot(WB_clean['ricetotal_q'])"
   ]
  },
  {
   "cell_type": "code",
   "execution_count": 218,
   "id": "60373275",
   "metadata": {
    "ExecuteTime": {
     "end_time": "2024-06-16T10:23:19.022374Z",
     "start_time": "2024-06-16T10:23:19.011587Z"
    }
   },
   "outputs": [
    {
     "data": {
      "text/plain": [
       "array([ 7,  4,  5,  6,  3,  1,  2,  8, 16, 18, 11, 17, 19, 15, 13, 12, 14,\n",
       "       10,  9], dtype=int64)"
      ]
     },
     "execution_count": 218,
     "metadata": {},
     "output_type": "execute_result"
    }
   ],
   "source": [
    "WB_clean['District'].unique()"
   ]
  },
  {
   "cell_type": "code",
   "execution_count": 219,
   "id": "37cdeaa5",
   "metadata": {
    "ExecuteTime": {
     "end_time": "2024-06-16T10:23:21.044003Z",
     "start_time": "2024-06-16T10:23:21.036312Z"
    }
   },
   "outputs": [],
   "source": [
    "# Replace values in the 'Sector' column\n",
    "WB_clean.loc[:,'Sector'] = WB_clean['Sector'].replace([1, 2], ['URBAN', 'RURAL'])"
   ]
  },
  {
   "cell_type": "code",
   "execution_count": 220,
   "id": "4338bcd0",
   "metadata": {
    "ExecuteTime": {
     "end_time": "2024-06-16T04:29:12.691488Z",
     "start_time": "2024-06-16T04:29:12.688111Z"
    }
   },
   "outputs": [],
   "source": [
    "#total consumption"
   ]
  },
  {
   "cell_type": "code",
   "execution_count": 221,
   "id": "97703b81",
   "metadata": {
    "ExecuteTime": {
     "end_time": "2024-06-16T10:23:35.351538Z",
     "start_time": "2024-06-16T10:23:35.346912Z"
    }
   },
   "outputs": [
    {
     "data": {
      "text/plain": [
       "Index(['state_1', 'District', 'Sector', 'Region', 'State_Region',\n",
       "       'ricetotal_q', 'wheattotal_q', 'moong_q', 'Milktotal_q', 'chicken_q',\n",
       "       'bread_q', 'foodtotal_q', 'Beveragestotal_v', 'Meals_At_Home'],\n",
       "      dtype='object')"
      ]
     },
     "execution_count": 221,
     "metadata": {},
     "output_type": "execute_result"
    }
   ],
   "source": [
    "WB_clean.columns"
   ]
  },
  {
   "cell_type": "code",
   "execution_count": 222,
   "id": "5907b983",
   "metadata": {
    "ExecuteTime": {
     "end_time": "2024-06-16T10:24:00.625661Z",
     "start_time": "2024-06-16T10:24:00.615361Z"
    },
    "scrolled": true
   },
   "outputs": [
    {
     "name": "stderr",
     "output_type": "stream",
     "text": [
      "C:\\Users\\jyoth\\AppData\\Local\\Temp\\ipykernel_17580\\3234372579.py:1: SettingWithCopyWarning: \n",
      "A value is trying to be set on a copy of a slice from a DataFrame.\n",
      "Try using .loc[row_indexer,col_indexer] = value instead\n",
      "\n",
      "See the caveats in the documentation: https://pandas.pydata.org/pandas-docs/stable/user_guide/indexing.html#returning-a-view-versus-a-copy\n",
      "  WB_clean.loc[:, 'total_consumption'] = WB_clean[['ricetotal_q', 'wheattotal_q', 'moong_q', 'Milktotal_q', 'chicken_q', 'bread_q', 'foodtotal_q', 'Beveragestotal_v']].sum(axis=1)\n"
     ]
    }
   ],
   "source": [
    "WB_clean.loc[:, 'total_consumption'] = WB_clean[['ricetotal_q', 'wheattotal_q', 'moong_q', 'Milktotal_q', 'chicken_q', 'bread_q', 'foodtotal_q', 'Beveragestotal_v']].sum(axis=1)"
   ]
  },
  {
   "cell_type": "code",
   "execution_count": 223,
   "id": "08face5f",
   "metadata": {
    "ExecuteTime": {
     "end_time": "2024-06-16T10:24:02.553328Z",
     "start_time": "2024-06-16T10:24:02.537298Z"
    }
   },
   "outputs": [
    {
     "data": {
      "text/html": [
       "<div>\n",
       "<style scoped>\n",
       "    .dataframe tbody tr th:only-of-type {\n",
       "        vertical-align: middle;\n",
       "    }\n",
       "\n",
       "    .dataframe tbody tr th {\n",
       "        vertical-align: top;\n",
       "    }\n",
       "\n",
       "    .dataframe thead th {\n",
       "        text-align: right;\n",
       "    }\n",
       "</style>\n",
       "<table border=\"1\" class=\"dataframe\">\n",
       "  <thead>\n",
       "    <tr style=\"text-align: right;\">\n",
       "      <th></th>\n",
       "      <th>state_1</th>\n",
       "      <th>District</th>\n",
       "      <th>Sector</th>\n",
       "      <th>Region</th>\n",
       "      <th>State_Region</th>\n",
       "      <th>ricetotal_q</th>\n",
       "      <th>wheattotal_q</th>\n",
       "      <th>moong_q</th>\n",
       "      <th>Milktotal_q</th>\n",
       "      <th>chicken_q</th>\n",
       "      <th>bread_q</th>\n",
       "      <th>foodtotal_q</th>\n",
       "      <th>Beveragestotal_v</th>\n",
       "      <th>Meals_At_Home</th>\n",
       "      <th>total_consumption</th>\n",
       "    </tr>\n",
       "  </thead>\n",
       "  <tbody>\n",
       "    <tr>\n",
       "      <th>6218</th>\n",
       "      <td>WB</td>\n",
       "      <td>7</td>\n",
       "      <td>RURAL</td>\n",
       "      <td>2</td>\n",
       "      <td>192</td>\n",
       "      <td>6.250000</td>\n",
       "      <td>3.500000</td>\n",
       "      <td>0.375000</td>\n",
       "      <td>0</td>\n",
       "      <td>0.750000</td>\n",
       "      <td>0.062500</td>\n",
       "      <td>31.463011</td>\n",
       "      <td>36.500000</td>\n",
       "      <td>90.0</td>\n",
       "      <td>78.900511</td>\n",
       "    </tr>\n",
       "    <tr>\n",
       "      <th>6219</th>\n",
       "      <td>WB</td>\n",
       "      <td>7</td>\n",
       "      <td>RURAL</td>\n",
       "      <td>2</td>\n",
       "      <td>192</td>\n",
       "      <td>4.571429</td>\n",
       "      <td>2.285714</td>\n",
       "      <td>0.071429</td>\n",
       "      <td>0</td>\n",
       "      <td>0.214286</td>\n",
       "      <td>0.085714</td>\n",
       "      <td>20.178901</td>\n",
       "      <td>34.285714</td>\n",
       "      <td>60.0</td>\n",
       "      <td>61.693187</td>\n",
       "    </tr>\n",
       "    <tr>\n",
       "      <th>6220</th>\n",
       "      <td>WB</td>\n",
       "      <td>7</td>\n",
       "      <td>RURAL</td>\n",
       "      <td>2</td>\n",
       "      <td>192</td>\n",
       "      <td>5.625000</td>\n",
       "      <td>1.250000</td>\n",
       "      <td>0.000000</td>\n",
       "      <td>0</td>\n",
       "      <td>0.000000</td>\n",
       "      <td>0.000000</td>\n",
       "      <td>14.793985</td>\n",
       "      <td>9.250000</td>\n",
       "      <td>60.0</td>\n",
       "      <td>30.918985</td>\n",
       "    </tr>\n",
       "    <tr>\n",
       "      <th>6221</th>\n",
       "      <td>WB</td>\n",
       "      <td>7</td>\n",
       "      <td>RURAL</td>\n",
       "      <td>2</td>\n",
       "      <td>192</td>\n",
       "      <td>5.777778</td>\n",
       "      <td>1.666667</td>\n",
       "      <td>0.000000</td>\n",
       "      <td>0</td>\n",
       "      <td>0.000000</td>\n",
       "      <td>0.000000</td>\n",
       "      <td>16.100309</td>\n",
       "      <td>8.888889</td>\n",
       "      <td>60.0</td>\n",
       "      <td>32.433642</td>\n",
       "    </tr>\n",
       "    <tr>\n",
       "      <th>6222</th>\n",
       "      <td>WB</td>\n",
       "      <td>7</td>\n",
       "      <td>RURAL</td>\n",
       "      <td>2</td>\n",
       "      <td>192</td>\n",
       "      <td>5.000000</td>\n",
       "      <td>3.866667</td>\n",
       "      <td>0.000000</td>\n",
       "      <td>0</td>\n",
       "      <td>0.000000</td>\n",
       "      <td>0.100000</td>\n",
       "      <td>24.567193</td>\n",
       "      <td>0.000000</td>\n",
       "      <td>90.0</td>\n",
       "      <td>33.533860</td>\n",
       "    </tr>\n",
       "  </tbody>\n",
       "</table>\n",
       "</div>"
      ],
      "text/plain": [
       "     state_1  District Sector  Region  State_Region  ricetotal_q  \\\n",
       "6218      WB         7  RURAL       2           192     6.250000   \n",
       "6219      WB         7  RURAL       2           192     4.571429   \n",
       "6220      WB         7  RURAL       2           192     5.625000   \n",
       "6221      WB         7  RURAL       2           192     5.777778   \n",
       "6222      WB         7  RURAL       2           192     5.000000   \n",
       "\n",
       "      wheattotal_q   moong_q  Milktotal_q  chicken_q   bread_q  foodtotal_q  \\\n",
       "6218      3.500000  0.375000            0   0.750000  0.062500    31.463011   \n",
       "6219      2.285714  0.071429            0   0.214286  0.085714    20.178901   \n",
       "6220      1.250000  0.000000            0   0.000000  0.000000    14.793985   \n",
       "6221      1.666667  0.000000            0   0.000000  0.000000    16.100309   \n",
       "6222      3.866667  0.000000            0   0.000000  0.100000    24.567193   \n",
       "\n",
       "      Beveragestotal_v  Meals_At_Home  total_consumption  \n",
       "6218         36.500000           90.0          78.900511  \n",
       "6219         34.285714           60.0          61.693187  \n",
       "6220          9.250000           60.0          30.918985  \n",
       "6221          8.888889           60.0          32.433642  \n",
       "6222          0.000000           90.0          33.533860  "
      ]
     },
     "execution_count": 223,
     "metadata": {},
     "output_type": "execute_result"
    }
   ],
   "source": [
    "WB_clean.head()"
   ]
  },
  {
   "cell_type": "code",
   "execution_count": 224,
   "id": "21f5310f",
   "metadata": {
    "ExecuteTime": {
     "end_time": "2024-06-16T10:24:05.914207Z",
     "start_time": "2024-06-16T10:24:05.880170Z"
    }
   },
   "outputs": [
    {
     "data": {
      "text/html": [
       "<div>\n",
       "<style scoped>\n",
       "    .dataframe tbody tr th:only-of-type {\n",
       "        vertical-align: middle;\n",
       "    }\n",
       "\n",
       "    .dataframe tbody tr th {\n",
       "        vertical-align: top;\n",
       "    }\n",
       "\n",
       "    .dataframe thead tr th {\n",
       "        text-align: left;\n",
       "    }\n",
       "\n",
       "    .dataframe thead tr:last-of-type th {\n",
       "        text-align: right;\n",
       "    }\n",
       "</style>\n",
       "<table border=\"1\" class=\"dataframe\">\n",
       "  <thead>\n",
       "    <tr>\n",
       "      <th></th>\n",
       "      <th colspan=\"4\" halign=\"left\">total_consumption</th>\n",
       "    </tr>\n",
       "    <tr>\n",
       "      <th></th>\n",
       "      <th>std</th>\n",
       "      <th>mean</th>\n",
       "      <th>max</th>\n",
       "      <th>min</th>\n",
       "    </tr>\n",
       "    <tr>\n",
       "      <th>Region</th>\n",
       "      <th></th>\n",
       "      <th></th>\n",
       "      <th></th>\n",
       "      <th></th>\n",
       "    </tr>\n",
       "  </thead>\n",
       "  <tbody>\n",
       "    <tr>\n",
       "      <th>1</th>\n",
       "      <td>24.938722</td>\n",
       "      <td>51.972724</td>\n",
       "      <td>343.427910</td>\n",
       "      <td>21.625113</td>\n",
       "    </tr>\n",
       "    <tr>\n",
       "      <th>2</th>\n",
       "      <td>31.700798</td>\n",
       "      <td>54.852707</td>\n",
       "      <td>550.514346</td>\n",
       "      <td>0.000000</td>\n",
       "    </tr>\n",
       "    <tr>\n",
       "      <th>3</th>\n",
       "      <td>64.319723</td>\n",
       "      <td>79.583415</td>\n",
       "      <td>824.786811</td>\n",
       "      <td>0.000000</td>\n",
       "    </tr>\n",
       "    <tr>\n",
       "      <th>4</th>\n",
       "      <td>40.703865</td>\n",
       "      <td>64.212879</td>\n",
       "      <td>363.475710</td>\n",
       "      <td>0.000000</td>\n",
       "    </tr>\n",
       "    <tr>\n",
       "      <th>5</th>\n",
       "      <td>39.180868</td>\n",
       "      <td>61.640396</td>\n",
       "      <td>424.551915</td>\n",
       "      <td>1.000000</td>\n",
       "    </tr>\n",
       "  </tbody>\n",
       "</table>\n",
       "</div>"
      ],
      "text/plain": [
       "       total_consumption                                  \n",
       "                     std       mean         max        min\n",
       "Region                                                    \n",
       "1              24.938722  51.972724  343.427910  21.625113\n",
       "2              31.700798  54.852707  550.514346   0.000000\n",
       "3              64.319723  79.583415  824.786811   0.000000\n",
       "4              40.703865  64.212879  363.475710   0.000000\n",
       "5              39.180868  61.640396  424.551915   1.000000"
      ]
     },
     "execution_count": 224,
     "metadata": {},
     "output_type": "execute_result"
    }
   ],
   "source": [
    "WB_clean.groupby('Region').agg({'total_consumption':['std','mean','max','min']})"
   ]
  },
  {
   "cell_type": "code",
   "execution_count": 225,
   "id": "9350a8aa",
   "metadata": {
    "ExecuteTime": {
     "end_time": "2024-06-16T10:24:07.986326Z",
     "start_time": "2024-06-16T10:24:07.969988Z"
    }
   },
   "outputs": [
    {
     "data": {
      "text/html": [
       "<div>\n",
       "<style scoped>\n",
       "    .dataframe tbody tr th:only-of-type {\n",
       "        vertical-align: middle;\n",
       "    }\n",
       "\n",
       "    .dataframe tbody tr th {\n",
       "        vertical-align: top;\n",
       "    }\n",
       "\n",
       "    .dataframe thead tr th {\n",
       "        text-align: left;\n",
       "    }\n",
       "\n",
       "    .dataframe thead tr:last-of-type th {\n",
       "        text-align: right;\n",
       "    }\n",
       "</style>\n",
       "<table border=\"1\" class=\"dataframe\">\n",
       "  <thead>\n",
       "    <tr>\n",
       "      <th></th>\n",
       "      <th colspan=\"4\" halign=\"left\">total_consumption</th>\n",
       "    </tr>\n",
       "    <tr>\n",
       "      <th></th>\n",
       "      <th>std</th>\n",
       "      <th>mean</th>\n",
       "      <th>max</th>\n",
       "      <th>min</th>\n",
       "    </tr>\n",
       "    <tr>\n",
       "      <th>District</th>\n",
       "      <th></th>\n",
       "      <th></th>\n",
       "      <th></th>\n",
       "      <th></th>\n",
       "    </tr>\n",
       "  </thead>\n",
       "  <tbody>\n",
       "    <tr>\n",
       "      <th>1</th>\n",
       "      <td>37.245323</td>\n",
       "      <td>58.980120</td>\n",
       "      <td>343.427910</td>\n",
       "      <td>21.625113</td>\n",
       "    </tr>\n",
       "    <tr>\n",
       "      <th>2</th>\n",
       "      <td>17.755672</td>\n",
       "      <td>49.384858</td>\n",
       "      <td>180.000000</td>\n",
       "      <td>24.850256</td>\n",
       "    </tr>\n",
       "    <tr>\n",
       "      <th>3</th>\n",
       "      <td>18.533560</td>\n",
       "      <td>49.571209</td>\n",
       "      <td>157.950862</td>\n",
       "      <td>23.457687</td>\n",
       "    </tr>\n",
       "    <tr>\n",
       "      <th>4</th>\n",
       "      <td>29.605777</td>\n",
       "      <td>54.577671</td>\n",
       "      <td>322.634005</td>\n",
       "      <td>24.050200</td>\n",
       "    </tr>\n",
       "    <tr>\n",
       "      <th>5</th>\n",
       "      <td>22.198599</td>\n",
       "      <td>53.733198</td>\n",
       "      <td>156.217250</td>\n",
       "      <td>5.000000</td>\n",
       "    </tr>\n",
       "    <tr>\n",
       "      <th>6</th>\n",
       "      <td>30.753114</td>\n",
       "      <td>54.916004</td>\n",
       "      <td>353.853227</td>\n",
       "      <td>0.000000</td>\n",
       "    </tr>\n",
       "    <tr>\n",
       "      <th>7</th>\n",
       "      <td>25.248808</td>\n",
       "      <td>50.537924</td>\n",
       "      <td>218.126383</td>\n",
       "      <td>9.424176</td>\n",
       "    </tr>\n",
       "    <tr>\n",
       "      <th>8</th>\n",
       "      <td>29.331055</td>\n",
       "      <td>55.103173</td>\n",
       "      <td>200.110505</td>\n",
       "      <td>21.250000</td>\n",
       "    </tr>\n",
       "    <tr>\n",
       "      <th>9</th>\n",
       "      <td>34.284840</td>\n",
       "      <td>62.544550</td>\n",
       "      <td>359.351575</td>\n",
       "      <td>0.000000</td>\n",
       "    </tr>\n",
       "    <tr>\n",
       "      <th>10</th>\n",
       "      <td>42.312004</td>\n",
       "      <td>59.856732</td>\n",
       "      <td>550.514346</td>\n",
       "      <td>0.500000</td>\n",
       "    </tr>\n",
       "    <tr>\n",
       "      <th>11</th>\n",
       "      <td>59.722071</td>\n",
       "      <td>78.339201</td>\n",
       "      <td>817.263940</td>\n",
       "      <td>0.000000</td>\n",
       "    </tr>\n",
       "    <tr>\n",
       "      <th>12</th>\n",
       "      <td>35.561980</td>\n",
       "      <td>59.826561</td>\n",
       "      <td>287.774367</td>\n",
       "      <td>0.000000</td>\n",
       "    </tr>\n",
       "    <tr>\n",
       "      <th>13</th>\n",
       "      <td>40.182419</td>\n",
       "      <td>64.816214</td>\n",
       "      <td>350.250000</td>\n",
       "      <td>1.000000</td>\n",
       "    </tr>\n",
       "    <tr>\n",
       "      <th>14</th>\n",
       "      <td>46.632226</td>\n",
       "      <td>63.292239</td>\n",
       "      <td>296.180970</td>\n",
       "      <td>15.750325</td>\n",
       "    </tr>\n",
       "    <tr>\n",
       "      <th>15</th>\n",
       "      <td>36.059372</td>\n",
       "      <td>59.332942</td>\n",
       "      <td>424.551915</td>\n",
       "      <td>23.130090</td>\n",
       "    </tr>\n",
       "    <tr>\n",
       "      <th>16</th>\n",
       "      <td>51.882490</td>\n",
       "      <td>71.310267</td>\n",
       "      <td>363.475710</td>\n",
       "      <td>0.000000</td>\n",
       "    </tr>\n",
       "    <tr>\n",
       "      <th>17</th>\n",
       "      <td>68.432986</td>\n",
       "      <td>90.903510</td>\n",
       "      <td>528.951700</td>\n",
       "      <td>0.000000</td>\n",
       "    </tr>\n",
       "    <tr>\n",
       "      <th>18</th>\n",
       "      <td>65.278906</td>\n",
       "      <td>69.343539</td>\n",
       "      <td>824.786811</td>\n",
       "      <td>0.400000</td>\n",
       "    </tr>\n",
       "    <tr>\n",
       "      <th>19</th>\n",
       "      <td>35.350772</td>\n",
       "      <td>60.254934</td>\n",
       "      <td>297.797800</td>\n",
       "      <td>2.000000</td>\n",
       "    </tr>\n",
       "  </tbody>\n",
       "</table>\n",
       "</div>"
      ],
      "text/plain": [
       "         total_consumption                                  \n",
       "                       std       mean         max        min\n",
       "District                                                    \n",
       "1                37.245323  58.980120  343.427910  21.625113\n",
       "2                17.755672  49.384858  180.000000  24.850256\n",
       "3                18.533560  49.571209  157.950862  23.457687\n",
       "4                29.605777  54.577671  322.634005  24.050200\n",
       "5                22.198599  53.733198  156.217250   5.000000\n",
       "6                30.753114  54.916004  353.853227   0.000000\n",
       "7                25.248808  50.537924  218.126383   9.424176\n",
       "8                29.331055  55.103173  200.110505  21.250000\n",
       "9                34.284840  62.544550  359.351575   0.000000\n",
       "10               42.312004  59.856732  550.514346   0.500000\n",
       "11               59.722071  78.339201  817.263940   0.000000\n",
       "12               35.561980  59.826561  287.774367   0.000000\n",
       "13               40.182419  64.816214  350.250000   1.000000\n",
       "14               46.632226  63.292239  296.180970  15.750325\n",
       "15               36.059372  59.332942  424.551915  23.130090\n",
       "16               51.882490  71.310267  363.475710   0.000000\n",
       "17               68.432986  90.903510  528.951700   0.000000\n",
       "18               65.278906  69.343539  824.786811   0.400000\n",
       "19               35.350772  60.254934  297.797800   2.000000"
      ]
     },
     "execution_count": 225,
     "metadata": {},
     "output_type": "execute_result"
    }
   ],
   "source": [
    "WB_clean.groupby('District').agg({'total_consumption':['std','mean','max','min']})"
   ]
  },
  {
   "cell_type": "code",
   "execution_count": 226,
   "id": "e401d915",
   "metadata": {
    "ExecuteTime": {
     "end_time": "2024-06-16T10:24:13.578223Z",
     "start_time": "2024-06-16T10:24:13.572952Z"
    }
   },
   "outputs": [],
   "source": [
    "total_consumption_by_districtcode=WB_clean.groupby('District')['total_consumption'].sum()"
   ]
  },
  {
   "cell_type": "code",
   "execution_count": 227,
   "id": "ad3a96bd",
   "metadata": {
    "ExecuteTime": {
     "end_time": "2024-06-16T10:24:16.346448Z",
     "start_time": "2024-06-16T10:24:16.338380Z"
    }
   },
   "outputs": [
    {
     "data": {
      "text/plain": [
       "District\n",
       "11    56874.259759\n",
       "17    43270.070987\n",
       "9     33461.334166\n",
       "Name: total_consumption, dtype: float64"
      ]
     },
     "execution_count": 227,
     "metadata": {},
     "output_type": "execute_result"
    }
   ],
   "source": [
    "total_consumption_by_districtcode.sort_values(ascending=False).head(3)"
   ]
  },
  {
   "cell_type": "code",
   "execution_count": 228,
   "id": "7202253b",
   "metadata": {
    "ExecuteTime": {
     "end_time": "2024-06-16T10:24:19.340120Z",
     "start_time": "2024-06-16T10:24:19.333211Z"
    }
   },
   "outputs": [],
   "source": [
    "WB_clean.loc[:,\"District\"] = WB_clean.loc[:,\"District\"].replace({6: \"Maldah\", 5: \"Dakshin Dinajpur\", 7: \"Murshidabad\"})"
   ]
  },
  {
   "cell_type": "code",
   "execution_count": 229,
   "id": "892eaac3",
   "metadata": {
    "ExecuteTime": {
     "end_time": "2024-06-16T10:24:21.218784Z",
     "start_time": "2024-06-16T10:24:21.210645Z"
    }
   },
   "outputs": [],
   "source": [
    "total_consumption_by_districtname=WB_clean.groupby('District')['total_consumption'].sum()"
   ]
  },
  {
   "cell_type": "code",
   "execution_count": 230,
   "id": "ccd48af2",
   "metadata": {
    "ExecuteTime": {
     "end_time": "2024-06-16T10:24:22.901993Z",
     "start_time": "2024-06-16T10:24:22.895026Z"
    }
   },
   "outputs": [
    {
     "data": {
      "text/plain": [
       "District\n",
       "11    56874.259759\n",
       "17    43270.070987\n",
       "9     33461.334166\n",
       "Name: total_consumption, dtype: float64"
      ]
     },
     "execution_count": 230,
     "metadata": {},
     "output_type": "execute_result"
    }
   ],
   "source": [
    "total_consumption_by_districtname.sort_values(ascending=False).head(3)"
   ]
  },
  {
   "cell_type": "code",
   "execution_count": 231,
   "id": "f34a7ab3",
   "metadata": {
    "ExecuteTime": {
     "end_time": "2024-06-16T10:24:26.024999Z",
     "start_time": "2024-06-16T10:24:26.002237Z"
    }
   },
   "outputs": [],
   "source": [
    "from statsmodels.stats import weightstats as stests"
   ]
  },
  {
   "cell_type": "code",
   "execution_count": 232,
   "id": "7a0f3736",
   "metadata": {
    "ExecuteTime": {
     "end_time": "2024-06-16T10:24:27.312812Z",
     "start_time": "2024-06-16T10:24:27.303906Z"
    }
   },
   "outputs": [],
   "source": [
    "rural=WB_clean[WB_clean['Sector']==\"RURAL\"]\n",
    "urban=WB_clean[WB_clean['Sector']==\"URBAN\"]"
   ]
  },
  {
   "cell_type": "code",
   "execution_count": 233,
   "id": "ed868d23",
   "metadata": {
    "ExecuteTime": {
     "end_time": "2024-06-16T10:24:28.869178Z",
     "start_time": "2024-06-16T10:24:28.853238Z"
    }
   },
   "outputs": [
    {
     "data": {
      "text/html": [
       "<div>\n",
       "<style scoped>\n",
       "    .dataframe tbody tr th:only-of-type {\n",
       "        vertical-align: middle;\n",
       "    }\n",
       "\n",
       "    .dataframe tbody tr th {\n",
       "        vertical-align: top;\n",
       "    }\n",
       "\n",
       "    .dataframe thead th {\n",
       "        text-align: right;\n",
       "    }\n",
       "</style>\n",
       "<table border=\"1\" class=\"dataframe\">\n",
       "  <thead>\n",
       "    <tr style=\"text-align: right;\">\n",
       "      <th></th>\n",
       "      <th>state_1</th>\n",
       "      <th>District</th>\n",
       "      <th>Sector</th>\n",
       "      <th>Region</th>\n",
       "      <th>State_Region</th>\n",
       "      <th>ricetotal_q</th>\n",
       "      <th>wheattotal_q</th>\n",
       "      <th>moong_q</th>\n",
       "      <th>Milktotal_q</th>\n",
       "      <th>chicken_q</th>\n",
       "      <th>bread_q</th>\n",
       "      <th>foodtotal_q</th>\n",
       "      <th>Beveragestotal_v</th>\n",
       "      <th>Meals_At_Home</th>\n",
       "      <th>total_consumption</th>\n",
       "    </tr>\n",
       "  </thead>\n",
       "  <tbody>\n",
       "    <tr>\n",
       "      <th>6218</th>\n",
       "      <td>WB</td>\n",
       "      <td>Murshidabad</td>\n",
       "      <td>RURAL</td>\n",
       "      <td>2</td>\n",
       "      <td>192</td>\n",
       "      <td>6.250000</td>\n",
       "      <td>3.500000</td>\n",
       "      <td>0.375000</td>\n",
       "      <td>0</td>\n",
       "      <td>0.750000</td>\n",
       "      <td>0.062500</td>\n",
       "      <td>31.463011</td>\n",
       "      <td>36.500000</td>\n",
       "      <td>90.0</td>\n",
       "      <td>78.900511</td>\n",
       "    </tr>\n",
       "    <tr>\n",
       "      <th>6219</th>\n",
       "      <td>WB</td>\n",
       "      <td>Murshidabad</td>\n",
       "      <td>RURAL</td>\n",
       "      <td>2</td>\n",
       "      <td>192</td>\n",
       "      <td>4.571429</td>\n",
       "      <td>2.285714</td>\n",
       "      <td>0.071429</td>\n",
       "      <td>0</td>\n",
       "      <td>0.214286</td>\n",
       "      <td>0.085714</td>\n",
       "      <td>20.178901</td>\n",
       "      <td>34.285714</td>\n",
       "      <td>60.0</td>\n",
       "      <td>61.693187</td>\n",
       "    </tr>\n",
       "    <tr>\n",
       "      <th>6220</th>\n",
       "      <td>WB</td>\n",
       "      <td>Murshidabad</td>\n",
       "      <td>RURAL</td>\n",
       "      <td>2</td>\n",
       "      <td>192</td>\n",
       "      <td>5.625000</td>\n",
       "      <td>1.250000</td>\n",
       "      <td>0.000000</td>\n",
       "      <td>0</td>\n",
       "      <td>0.000000</td>\n",
       "      <td>0.000000</td>\n",
       "      <td>14.793985</td>\n",
       "      <td>9.250000</td>\n",
       "      <td>60.0</td>\n",
       "      <td>30.918985</td>\n",
       "    </tr>\n",
       "    <tr>\n",
       "      <th>6221</th>\n",
       "      <td>WB</td>\n",
       "      <td>Murshidabad</td>\n",
       "      <td>RURAL</td>\n",
       "      <td>2</td>\n",
       "      <td>192</td>\n",
       "      <td>5.777778</td>\n",
       "      <td>1.666667</td>\n",
       "      <td>0.000000</td>\n",
       "      <td>0</td>\n",
       "      <td>0.000000</td>\n",
       "      <td>0.000000</td>\n",
       "      <td>16.100309</td>\n",
       "      <td>8.888889</td>\n",
       "      <td>60.0</td>\n",
       "      <td>32.433642</td>\n",
       "    </tr>\n",
       "    <tr>\n",
       "      <th>6222</th>\n",
       "      <td>WB</td>\n",
       "      <td>Murshidabad</td>\n",
       "      <td>RURAL</td>\n",
       "      <td>2</td>\n",
       "      <td>192</td>\n",
       "      <td>5.000000</td>\n",
       "      <td>3.866667</td>\n",
       "      <td>0.000000</td>\n",
       "      <td>0</td>\n",
       "      <td>0.000000</td>\n",
       "      <td>0.100000</td>\n",
       "      <td>24.567193</td>\n",
       "      <td>0.000000</td>\n",
       "      <td>90.0</td>\n",
       "      <td>33.533860</td>\n",
       "    </tr>\n",
       "  </tbody>\n",
       "</table>\n",
       "</div>"
      ],
      "text/plain": [
       "     state_1     District Sector  Region  State_Region  ricetotal_q  \\\n",
       "6218      WB  Murshidabad  RURAL       2           192     6.250000   \n",
       "6219      WB  Murshidabad  RURAL       2           192     4.571429   \n",
       "6220      WB  Murshidabad  RURAL       2           192     5.625000   \n",
       "6221      WB  Murshidabad  RURAL       2           192     5.777778   \n",
       "6222      WB  Murshidabad  RURAL       2           192     5.000000   \n",
       "\n",
       "      wheattotal_q   moong_q  Milktotal_q  chicken_q   bread_q  foodtotal_q  \\\n",
       "6218      3.500000  0.375000            0   0.750000  0.062500    31.463011   \n",
       "6219      2.285714  0.071429            0   0.214286  0.085714    20.178901   \n",
       "6220      1.250000  0.000000            0   0.000000  0.000000    14.793985   \n",
       "6221      1.666667  0.000000            0   0.000000  0.000000    16.100309   \n",
       "6222      3.866667  0.000000            0   0.000000  0.100000    24.567193   \n",
       "\n",
       "      Beveragestotal_v  Meals_At_Home  total_consumption  \n",
       "6218         36.500000           90.0          78.900511  \n",
       "6219         34.285714           60.0          61.693187  \n",
       "6220          9.250000           60.0          30.918985  \n",
       "6221          8.888889           60.0          32.433642  \n",
       "6222          0.000000           90.0          33.533860  "
      ]
     },
     "execution_count": 233,
     "metadata": {},
     "output_type": "execute_result"
    }
   ],
   "source": [
    "rural.head()"
   ]
  },
  {
   "cell_type": "code",
   "execution_count": 234,
   "id": "cba3ad77",
   "metadata": {
    "ExecuteTime": {
     "end_time": "2024-06-16T10:24:31.022488Z",
     "start_time": "2024-06-16T10:24:31.001243Z"
    }
   },
   "outputs": [
    {
     "data": {
      "text/html": [
       "<div>\n",
       "<style scoped>\n",
       "    .dataframe tbody tr th:only-of-type {\n",
       "        vertical-align: middle;\n",
       "    }\n",
       "\n",
       "    .dataframe tbody tr th {\n",
       "        vertical-align: top;\n",
       "    }\n",
       "\n",
       "    .dataframe thead th {\n",
       "        text-align: right;\n",
       "    }\n",
       "</style>\n",
       "<table border=\"1\" class=\"dataframe\">\n",
       "  <thead>\n",
       "    <tr style=\"text-align: right;\">\n",
       "      <th></th>\n",
       "      <th>state_1</th>\n",
       "      <th>District</th>\n",
       "      <th>Sector</th>\n",
       "      <th>Region</th>\n",
       "      <th>State_Region</th>\n",
       "      <th>ricetotal_q</th>\n",
       "      <th>wheattotal_q</th>\n",
       "      <th>moong_q</th>\n",
       "      <th>Milktotal_q</th>\n",
       "      <th>chicken_q</th>\n",
       "      <th>bread_q</th>\n",
       "      <th>foodtotal_q</th>\n",
       "      <th>Beveragestotal_v</th>\n",
       "      <th>Meals_At_Home</th>\n",
       "      <th>total_consumption</th>\n",
       "    </tr>\n",
       "  </thead>\n",
       "  <tbody>\n",
       "    <tr>\n",
       "      <th>52778</th>\n",
       "      <td>WB</td>\n",
       "      <td>18</td>\n",
       "      <td>URBAN</td>\n",
       "      <td>3</td>\n",
       "      <td>193</td>\n",
       "      <td>8.000000</td>\n",
       "      <td>2.000000</td>\n",
       "      <td>0.0</td>\n",
       "      <td>0</td>\n",
       "      <td>0.166667</td>\n",
       "      <td>0.0</td>\n",
       "      <td>19.073853</td>\n",
       "      <td>3.336000</td>\n",
       "      <td>60.0</td>\n",
       "      <td>32.576520</td>\n",
       "    </tr>\n",
       "    <tr>\n",
       "      <th>52779</th>\n",
       "      <td>WB</td>\n",
       "      <td>18</td>\n",
       "      <td>URBAN</td>\n",
       "      <td>3</td>\n",
       "      <td>193</td>\n",
       "      <td>8.888889</td>\n",
       "      <td>0.888889</td>\n",
       "      <td>0.0</td>\n",
       "      <td>0</td>\n",
       "      <td>0.000000</td>\n",
       "      <td>0.0</td>\n",
       "      <td>23.678489</td>\n",
       "      <td>20.000000</td>\n",
       "      <td>60.0</td>\n",
       "      <td>53.456267</td>\n",
       "    </tr>\n",
       "    <tr>\n",
       "      <th>52780</th>\n",
       "      <td>WB</td>\n",
       "      <td>18</td>\n",
       "      <td>URBAN</td>\n",
       "      <td>3</td>\n",
       "      <td>193</td>\n",
       "      <td>5.000000</td>\n",
       "      <td>2.307692</td>\n",
       "      <td>0.0</td>\n",
       "      <td>0</td>\n",
       "      <td>0.076923</td>\n",
       "      <td>0.0</td>\n",
       "      <td>16.788775</td>\n",
       "      <td>22.307692</td>\n",
       "      <td>54.0</td>\n",
       "      <td>46.481083</td>\n",
       "    </tr>\n",
       "    <tr>\n",
       "      <th>52781</th>\n",
       "      <td>WB</td>\n",
       "      <td>18</td>\n",
       "      <td>URBAN</td>\n",
       "      <td>3</td>\n",
       "      <td>193</td>\n",
       "      <td>11.666667</td>\n",
       "      <td>1.666667</td>\n",
       "      <td>0.0</td>\n",
       "      <td>0</td>\n",
       "      <td>0.333333</td>\n",
       "      <td>0.0</td>\n",
       "      <td>30.433923</td>\n",
       "      <td>10.000000</td>\n",
       "      <td>60.0</td>\n",
       "      <td>54.100590</td>\n",
       "    </tr>\n",
       "    <tr>\n",
       "      <th>52782</th>\n",
       "      <td>WB</td>\n",
       "      <td>18</td>\n",
       "      <td>URBAN</td>\n",
       "      <td>3</td>\n",
       "      <td>193</td>\n",
       "      <td>10.000000</td>\n",
       "      <td>0.600000</td>\n",
       "      <td>0.0</td>\n",
       "      <td>0</td>\n",
       "      <td>0.000000</td>\n",
       "      <td>0.0</td>\n",
       "      <td>25.800858</td>\n",
       "      <td>22.000000</td>\n",
       "      <td>90.0</td>\n",
       "      <td>58.400858</td>\n",
       "    </tr>\n",
       "  </tbody>\n",
       "</table>\n",
       "</div>"
      ],
      "text/plain": [
       "      state_1 District Sector  Region  State_Region  ricetotal_q  \\\n",
       "52778      WB       18  URBAN       3           193     8.000000   \n",
       "52779      WB       18  URBAN       3           193     8.888889   \n",
       "52780      WB       18  URBAN       3           193     5.000000   \n",
       "52781      WB       18  URBAN       3           193    11.666667   \n",
       "52782      WB       18  URBAN       3           193    10.000000   \n",
       "\n",
       "       wheattotal_q  moong_q  Milktotal_q  chicken_q  bread_q  foodtotal_q  \\\n",
       "52778      2.000000      0.0            0   0.166667      0.0    19.073853   \n",
       "52779      0.888889      0.0            0   0.000000      0.0    23.678489   \n",
       "52780      2.307692      0.0            0   0.076923      0.0    16.788775   \n",
       "52781      1.666667      0.0            0   0.333333      0.0    30.433923   \n",
       "52782      0.600000      0.0            0   0.000000      0.0    25.800858   \n",
       "\n",
       "       Beveragestotal_v  Meals_At_Home  total_consumption  \n",
       "52778          3.336000           60.0          32.576520  \n",
       "52779         20.000000           60.0          53.456267  \n",
       "52780         22.307692           54.0          46.481083  \n",
       "52781         10.000000           60.0          54.100590  \n",
       "52782         22.000000           90.0          58.400858  "
      ]
     },
     "execution_count": 234,
     "metadata": {},
     "output_type": "execute_result"
    }
   ],
   "source": [
    "urban.head()"
   ]
  },
  {
   "cell_type": "code",
   "execution_count": 235,
   "id": "676b513e",
   "metadata": {
    "ExecuteTime": {
     "end_time": "2024-06-16T10:24:32.527594Z",
     "start_time": "2024-06-16T10:24:32.524253Z"
    }
   },
   "outputs": [],
   "source": [
    "cons_rural=rural['total_consumption']\n",
    "cons_urban=urban['total_consumption']"
   ]
  },
  {
   "cell_type": "code",
   "execution_count": 236,
   "id": "7e08040d",
   "metadata": {
    "ExecuteTime": {
     "end_time": "2024-06-16T10:24:33.980015Z",
     "start_time": "2024-06-16T10:24:33.970730Z"
    }
   },
   "outputs": [
    {
     "name": "stdout",
     "output_type": "stream",
     "text": [
      "Z-Score: 17.81960746005611\n",
      "P-Value: 4.978462124026744e-71\n"
     ]
    }
   ],
   "source": [
    "z_statistic, p_value = stests.ztest(cons_rural, cons_urban)\n",
    "# Print the z-score and p-value\n",
    "print(\"Z-Score:\", z_statistic)\n",
    "print(\"P-Value:\", p_value)"
   ]
  },
  {
   "cell_type": "code",
   "execution_count": null,
   "id": "1cb734b2-0a26-40ef-a592-0328a6815d72",
   "metadata": {},
   "outputs": [],
   "source": []
  },
  {
   "cell_type": "code",
   "execution_count": null,
   "id": "e0c78737-53cb-4d67-8f46-c63df975df94",
   "metadata": {},
   "outputs": [],
   "source": []
  },
  {
   "cell_type": "code",
   "execution_count": null,
   "id": "7b51398e-aef6-45bb-b5fd-96a57655f532",
   "metadata": {},
   "outputs": [],
   "source": []
  },
  {
   "cell_type": "code",
   "execution_count": null,
   "id": "b32fd0ea-5a35-46aa-8ff7-c21c89dda5f9",
   "metadata": {},
   "outputs": [],
   "source": []
  },
  {
   "cell_type": "code",
   "execution_count": null,
   "id": "4f674df8-761d-4f8e-a37e-f667e221ad73",
   "metadata": {},
   "outputs": [],
   "source": []
  },
  {
   "cell_type": "code",
   "execution_count": null,
   "id": "b58cfc9e-78df-45ec-9f35-18beb4c81dab",
   "metadata": {},
   "outputs": [],
   "source": []
  },
  {
   "cell_type": "code",
   "execution_count": null,
   "id": "f4020a69-9f00-4546-b6b5-18990dd9f5aa",
   "metadata": {},
   "outputs": [],
   "source": []
  },
  {
   "cell_type": "code",
   "execution_count": null,
   "id": "f433824a-7d31-4408-8da7-8d589ef559f4",
   "metadata": {},
   "outputs": [],
   "source": []
  },
  {
   "cell_type": "code",
   "execution_count": null,
   "id": "8ef83c55-4367-4c08-b8c0-0e61814ad663",
   "metadata": {},
   "outputs": [],
   "source": []
  },
  {
   "cell_type": "code",
   "execution_count": null,
   "id": "bd3c6bb7-bd1e-4bfe-b644-dc8179497881",
   "metadata": {},
   "outputs": [],
   "source": []
  },
  {
   "cell_type": "code",
   "execution_count": null,
   "id": "3d850ec5-8435-4e5f-866d-b3bf5a44bf25",
   "metadata": {},
   "outputs": [],
   "source": []
  },
  {
   "cell_type": "code",
   "execution_count": null,
   "id": "b12067c7-ee87-441f-a944-d93093a20538",
   "metadata": {},
   "outputs": [],
   "source": []
  }
 ],
 "metadata": {
  "kernelspec": {
   "display_name": "Python 3 (ipykernel)",
   "language": "python",
   "name": "python3"
  },
  "language_info": {
   "codemirror_mode": {
    "name": "ipython",
    "version": 3
   },
   "file_extension": ".py",
   "mimetype": "text/x-python",
   "name": "python",
   "nbconvert_exporter": "python",
   "pygments_lexer": "ipython3",
   "version": "3.11.7"
  },
  "varInspector": {
   "cols": {
    "lenName": 16,
    "lenType": 16,
    "lenVar": 40
   },
   "kernels_config": {
    "python": {
     "delete_cmd_postfix": "",
     "delete_cmd_prefix": "del ",
     "library": "var_list.py",
     "varRefreshCmd": "print(var_dic_list())"
    },
    "r": {
     "delete_cmd_postfix": ") ",
     "delete_cmd_prefix": "rm(",
     "library": "var_list.r",
     "varRefreshCmd": "cat(var_dic_list()) "
    }
   },
   "types_to_exclude": [
    "module",
    "function",
    "builtin_function_or_method",
    "instance",
    "_Feature"
   ],
   "window_display": false
  }
 },
 "nbformat": 4,
 "nbformat_minor": 5
}
